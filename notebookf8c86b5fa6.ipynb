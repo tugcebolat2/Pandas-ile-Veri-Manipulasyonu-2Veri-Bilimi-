{
 "cells": [
  {
   "cell_type": "code",
   "execution_count": 1,
   "id": "3435c04d",
   "metadata": {
    "_cell_guid": "b1076dfc-b9ad-4769-8c92-a6c4dae69d19",
    "_uuid": "8f2839f25d086af736a60e9eeb907d3b93b6e0e5",
    "execution": {
     "iopub.execute_input": "2022-11-27T13:50:13.095149Z",
     "iopub.status.busy": "2022-11-27T13:50:13.094697Z",
     "iopub.status.idle": "2022-11-27T13:50:30.316732Z",
     "shell.execute_reply": "2022-11-27T13:50:30.315565Z"
    },
    "papermill": {
     "duration": 17.240701,
     "end_time": "2022-11-27T13:50:30.320118",
     "exception": false,
     "start_time": "2022-11-27T13:50:13.079417",
     "status": "completed"
    },
    "tags": []
   },
   "outputs": [],
   "source": [
    "\n",
    "import pandas as pd\n",
    "import seaborn as sns\n",
    "import numpy as np\n",
    "import matplotlib.pyplot as plt\n",
    "\n",
    "eine=pd.read_csv(\"/kaggle/input/2000-16-traffic-flow-england-scotland-wales/accidents_2005_to_2007.csv\",low_memory=False)\n",
    "zwei=pd.read_csv(\"/kaggle/input/2000-16-traffic-flow-england-scotland-wales/accidents_2009_to_2011.csv\",low_memory=False)\n",
    "drei=pd.read_csv(\"/kaggle/input/2000-16-traffic-flow-england-scotland-wales/accidents_2012_to_2014.csv\",low_memory=False)\n",
    "unfall = pd.concat([eine,zwei,drei], axis=0)"
   ]
  },
  {
   "cell_type": "code",
   "execution_count": 2,
   "id": "b69ea16b",
   "metadata": {
    "execution": {
     "iopub.execute_input": "2022-11-27T13:50:30.347587Z",
     "iopub.status.busy": "2022-11-27T13:50:30.346561Z",
     "iopub.status.idle": "2022-11-27T13:50:30.383248Z",
     "shell.execute_reply": "2022-11-27T13:50:30.381957Z"
    },
    "papermill": {
     "duration": 0.055604,
     "end_time": "2022-11-27T13:50:30.387603",
     "exception": false,
     "start_time": "2022-11-27T13:50:30.331999",
     "status": "completed"
    },
    "tags": []
   },
   "outputs": [
    {
     "data": {
      "text/html": [
       "<div>\n",
       "<style scoped>\n",
       "    .dataframe tbody tr th:only-of-type {\n",
       "        vertical-align: middle;\n",
       "    }\n",
       "\n",
       "    .dataframe tbody tr th {\n",
       "        vertical-align: top;\n",
       "    }\n",
       "\n",
       "    .dataframe thead th {\n",
       "        text-align: right;\n",
       "    }\n",
       "</style>\n",
       "<table border=\"1\" class=\"dataframe\">\n",
       "  <thead>\n",
       "    <tr style=\"text-align: right;\">\n",
       "      <th></th>\n",
       "      <th>Accident_Index</th>\n",
       "      <th>Location_Easting_OSGR</th>\n",
       "      <th>Location_Northing_OSGR</th>\n",
       "      <th>Longitude</th>\n",
       "      <th>Latitude</th>\n",
       "      <th>Police_Force</th>\n",
       "      <th>Accident_Severity</th>\n",
       "      <th>Number_of_Vehicles</th>\n",
       "      <th>Number_of_Casualties</th>\n",
       "      <th>Date</th>\n",
       "      <th>...</th>\n",
       "      <th>Pedestrian_Crossing-Physical_Facilities</th>\n",
       "      <th>Light_Conditions</th>\n",
       "      <th>Weather_Conditions</th>\n",
       "      <th>Road_Surface_Conditions</th>\n",
       "      <th>Special_Conditions_at_Site</th>\n",
       "      <th>Carriageway_Hazards</th>\n",
       "      <th>Urban_or_Rural_Area</th>\n",
       "      <th>Did_Police_Officer_Attend_Scene_of_Accident</th>\n",
       "      <th>LSOA_of_Accident_Location</th>\n",
       "      <th>Year</th>\n",
       "    </tr>\n",
       "  </thead>\n",
       "  <tbody>\n",
       "    <tr>\n",
       "      <th>0</th>\n",
       "      <td>200501BS00001</td>\n",
       "      <td>525680.0</td>\n",
       "      <td>178240.0</td>\n",
       "      <td>-0.191170</td>\n",
       "      <td>51.489096</td>\n",
       "      <td>1</td>\n",
       "      <td>2</td>\n",
       "      <td>1</td>\n",
       "      <td>1</td>\n",
       "      <td>04/01/2005</td>\n",
       "      <td>...</td>\n",
       "      <td>Zebra crossing</td>\n",
       "      <td>Daylight: Street light present</td>\n",
       "      <td>Raining without high winds</td>\n",
       "      <td>Wet/Damp</td>\n",
       "      <td>None</td>\n",
       "      <td>None</td>\n",
       "      <td>1</td>\n",
       "      <td>Yes</td>\n",
       "      <td>E01002849</td>\n",
       "      <td>2005</td>\n",
       "    </tr>\n",
       "    <tr>\n",
       "      <th>1</th>\n",
       "      <td>200501BS00002</td>\n",
       "      <td>524170.0</td>\n",
       "      <td>181650.0</td>\n",
       "      <td>-0.211708</td>\n",
       "      <td>51.520075</td>\n",
       "      <td>1</td>\n",
       "      <td>3</td>\n",
       "      <td>1</td>\n",
       "      <td>1</td>\n",
       "      <td>05/01/2005</td>\n",
       "      <td>...</td>\n",
       "      <td>Pedestrian phase at traffic signal junction</td>\n",
       "      <td>Darkness: Street lights present and lit</td>\n",
       "      <td>Fine without high winds</td>\n",
       "      <td>Dry</td>\n",
       "      <td>None</td>\n",
       "      <td>None</td>\n",
       "      <td>1</td>\n",
       "      <td>Yes</td>\n",
       "      <td>E01002909</td>\n",
       "      <td>2005</td>\n",
       "    </tr>\n",
       "    <tr>\n",
       "      <th>2</th>\n",
       "      <td>200501BS00003</td>\n",
       "      <td>524520.0</td>\n",
       "      <td>182240.0</td>\n",
       "      <td>-0.206458</td>\n",
       "      <td>51.525301</td>\n",
       "      <td>1</td>\n",
       "      <td>3</td>\n",
       "      <td>2</td>\n",
       "      <td>1</td>\n",
       "      <td>06/01/2005</td>\n",
       "      <td>...</td>\n",
       "      <td>No physical crossing within 50 meters</td>\n",
       "      <td>Darkness: Street lights present and lit</td>\n",
       "      <td>Fine without high winds</td>\n",
       "      <td>Dry</td>\n",
       "      <td>None</td>\n",
       "      <td>None</td>\n",
       "      <td>1</td>\n",
       "      <td>Yes</td>\n",
       "      <td>E01002857</td>\n",
       "      <td>2005</td>\n",
       "    </tr>\n",
       "    <tr>\n",
       "      <th>3</th>\n",
       "      <td>200501BS00004</td>\n",
       "      <td>526900.0</td>\n",
       "      <td>177530.0</td>\n",
       "      <td>-0.173862</td>\n",
       "      <td>51.482442</td>\n",
       "      <td>1</td>\n",
       "      <td>3</td>\n",
       "      <td>1</td>\n",
       "      <td>1</td>\n",
       "      <td>07/01/2005</td>\n",
       "      <td>...</td>\n",
       "      <td>No physical crossing within 50 meters</td>\n",
       "      <td>Daylight: Street light present</td>\n",
       "      <td>Fine without high winds</td>\n",
       "      <td>Dry</td>\n",
       "      <td>None</td>\n",
       "      <td>None</td>\n",
       "      <td>1</td>\n",
       "      <td>Yes</td>\n",
       "      <td>E01002840</td>\n",
       "      <td>2005</td>\n",
       "    </tr>\n",
       "    <tr>\n",
       "      <th>4</th>\n",
       "      <td>200501BS00005</td>\n",
       "      <td>528060.0</td>\n",
       "      <td>179040.0</td>\n",
       "      <td>-0.156618</td>\n",
       "      <td>51.495752</td>\n",
       "      <td>1</td>\n",
       "      <td>3</td>\n",
       "      <td>1</td>\n",
       "      <td>1</td>\n",
       "      <td>10/01/2005</td>\n",
       "      <td>...</td>\n",
       "      <td>No physical crossing within 50 meters</td>\n",
       "      <td>Darkness: Street lighting unknown</td>\n",
       "      <td>Fine without high winds</td>\n",
       "      <td>Wet/Damp</td>\n",
       "      <td>None</td>\n",
       "      <td>None</td>\n",
       "      <td>1</td>\n",
       "      <td>Yes</td>\n",
       "      <td>E01002863</td>\n",
       "      <td>2005</td>\n",
       "    </tr>\n",
       "  </tbody>\n",
       "</table>\n",
       "<p>5 rows × 33 columns</p>\n",
       "</div>"
      ],
      "text/plain": [
       "  Accident_Index  Location_Easting_OSGR  Location_Northing_OSGR  Longitude  \\\n",
       "0  200501BS00001               525680.0                178240.0  -0.191170   \n",
       "1  200501BS00002               524170.0                181650.0  -0.211708   \n",
       "2  200501BS00003               524520.0                182240.0  -0.206458   \n",
       "3  200501BS00004               526900.0                177530.0  -0.173862   \n",
       "4  200501BS00005               528060.0                179040.0  -0.156618   \n",
       "\n",
       "    Latitude  Police_Force  Accident_Severity  Number_of_Vehicles  \\\n",
       "0  51.489096             1                  2                   1   \n",
       "1  51.520075             1                  3                   1   \n",
       "2  51.525301             1                  3                   2   \n",
       "3  51.482442             1                  3                   1   \n",
       "4  51.495752             1                  3                   1   \n",
       "\n",
       "   Number_of_Casualties        Date  ...  \\\n",
       "0                     1  04/01/2005  ...   \n",
       "1                     1  05/01/2005  ...   \n",
       "2                     1  06/01/2005  ...   \n",
       "3                     1  07/01/2005  ...   \n",
       "4                     1  10/01/2005  ...   \n",
       "\n",
       "       Pedestrian_Crossing-Physical_Facilities  \\\n",
       "0                               Zebra crossing   \n",
       "1  Pedestrian phase at traffic signal junction   \n",
       "2        No physical crossing within 50 meters   \n",
       "3        No physical crossing within 50 meters   \n",
       "4        No physical crossing within 50 meters   \n",
       "\n",
       "                          Light_Conditions          Weather_Conditions  \\\n",
       "0           Daylight: Street light present  Raining without high winds   \n",
       "1  Darkness: Street lights present and lit     Fine without high winds   \n",
       "2  Darkness: Street lights present and lit     Fine without high winds   \n",
       "3           Daylight: Street light present     Fine without high winds   \n",
       "4        Darkness: Street lighting unknown     Fine without high winds   \n",
       "\n",
       "  Road_Surface_Conditions  Special_Conditions_at_Site  Carriageway_Hazards  \\\n",
       "0                Wet/Damp                        None                 None   \n",
       "1                     Dry                        None                 None   \n",
       "2                     Dry                        None                 None   \n",
       "3                     Dry                        None                 None   \n",
       "4                Wet/Damp                        None                 None   \n",
       "\n",
       "  Urban_or_Rural_Area  Did_Police_Officer_Attend_Scene_of_Accident  \\\n",
       "0                   1                                          Yes   \n",
       "1                   1                                          Yes   \n",
       "2                   1                                          Yes   \n",
       "3                   1                                          Yes   \n",
       "4                   1                                          Yes   \n",
       "\n",
       "   LSOA_of_Accident_Location  Year  \n",
       "0                  E01002849  2005  \n",
       "1                  E01002909  2005  \n",
       "2                  E01002857  2005  \n",
       "3                  E01002840  2005  \n",
       "4                  E01002863  2005  \n",
       "\n",
       "[5 rows x 33 columns]"
      ]
     },
     "execution_count": 2,
     "metadata": {},
     "output_type": "execute_result"
    }
   ],
   "source": [
    "unfall.head()"
   ]
  },
  {
   "cell_type": "code",
   "execution_count": 3,
   "id": "84967f26",
   "metadata": {
    "execution": {
     "iopub.execute_input": "2022-11-27T13:50:30.413128Z",
     "iopub.status.busy": "2022-11-27T13:50:30.412212Z",
     "iopub.status.idle": "2022-11-27T13:50:30.419461Z",
     "shell.execute_reply": "2022-11-27T13:50:30.418271Z"
    },
    "papermill": {
     "duration": 0.022635,
     "end_time": "2022-11-27T13:50:30.421905",
     "exception": false,
     "start_time": "2022-11-27T13:50:30.399270",
     "status": "completed"
    },
    "tags": []
   },
   "outputs": [
    {
     "data": {
      "text/plain": [
       "(1504150, 33)"
      ]
     },
     "execution_count": 3,
     "metadata": {},
     "output_type": "execute_result"
    }
   ],
   "source": [
    "unfall.shape"
   ]
  },
  {
   "cell_type": "code",
   "execution_count": 4,
   "id": "a4c66a4d",
   "metadata": {
    "execution": {
     "iopub.execute_input": "2022-11-27T13:50:30.447189Z",
     "iopub.status.busy": "2022-11-27T13:50:30.446816Z",
     "iopub.status.idle": "2022-11-27T13:50:30.455967Z",
     "shell.execute_reply": "2022-11-27T13:50:30.454825Z"
    },
    "papermill": {
     "duration": 0.024535,
     "end_time": "2022-11-27T13:50:30.458320",
     "exception": false,
     "start_time": "2022-11-27T13:50:30.433785",
     "status": "completed"
    },
    "tags": []
   },
   "outputs": [
    {
     "data": {
      "text/plain": [
       "Accident_Index                                  object\n",
       "Location_Easting_OSGR                          float64\n",
       "Location_Northing_OSGR                         float64\n",
       "Longitude                                      float64\n",
       "Latitude                                       float64\n",
       "Police_Force                                     int64\n",
       "Accident_Severity                                int64\n",
       "Number_of_Vehicles                               int64\n",
       "Number_of_Casualties                             int64\n",
       "Date                                            object\n",
       "Day_of_Week                                      int64\n",
       "Time                                            object\n",
       "Local_Authority_(District)                       int64\n",
       "Local_Authority_(Highway)                       object\n",
       "1st_Road_Class                                   int64\n",
       "1st_Road_Number                                  int64\n",
       "Road_Type                                       object\n",
       "Speed_limit                                      int64\n",
       "Junction_Detail                                float64\n",
       "Junction_Control                                object\n",
       "2nd_Road_Class                                   int64\n",
       "2nd_Road_Number                                  int64\n",
       "Pedestrian_Crossing-Human_Control               object\n",
       "Pedestrian_Crossing-Physical_Facilities         object\n",
       "Light_Conditions                                object\n",
       "Weather_Conditions                              object\n",
       "Road_Surface_Conditions                         object\n",
       "Special_Conditions_at_Site                      object\n",
       "Carriageway_Hazards                             object\n",
       "Urban_or_Rural_Area                              int64\n",
       "Did_Police_Officer_Attend_Scene_of_Accident     object\n",
       "LSOA_of_Accident_Location                       object\n",
       "Year                                             int64\n",
       "dtype: object"
      ]
     },
     "execution_count": 4,
     "metadata": {},
     "output_type": "execute_result"
    }
   ],
   "source": [
    "unfall.dtypes"
   ]
  },
  {
   "cell_type": "code",
   "execution_count": 5,
   "id": "b3d910cf",
   "metadata": {
    "execution": {
     "iopub.execute_input": "2022-11-27T13:50:30.484704Z",
     "iopub.status.busy": "2022-11-27T13:50:30.484334Z",
     "iopub.status.idle": "2022-11-27T13:50:31.481262Z",
     "shell.execute_reply": "2022-11-27T13:50:31.480060Z"
    },
    "papermill": {
     "duration": 1.013216,
     "end_time": "2022-11-27T13:50:31.483643",
     "exception": false,
     "start_time": "2022-11-27T13:50:30.470427",
     "status": "completed"
    },
    "tags": []
   },
   "outputs": [
    {
     "data": {
      "text/plain": [
       "Accident_Index                                       0\n",
       "Location_Easting_OSGR                              101\n",
       "Location_Northing_OSGR                             101\n",
       "Longitude                                          101\n",
       "Latitude                                           101\n",
       "Police_Force                                         0\n",
       "Accident_Severity                                    0\n",
       "Number_of_Vehicles                                   0\n",
       "Number_of_Casualties                                 0\n",
       "Date                                                 0\n",
       "Day_of_Week                                          0\n",
       "Time                                               117\n",
       "Local_Authority_(District)                           0\n",
       "Local_Authority_(Highway)                            0\n",
       "1st_Road_Class                                       0\n",
       "1st_Road_Number                                      0\n",
       "Road_Type                                            0\n",
       "Speed_limit                                          0\n",
       "Junction_Detail                                1504150\n",
       "Junction_Control                                602835\n",
       "2nd_Road_Class                                       0\n",
       "2nd_Road_Number                                      0\n",
       "Pedestrian_Crossing-Human_Control                   17\n",
       "Pedestrian_Crossing-Physical_Facilities             34\n",
       "Light_Conditions                                     0\n",
       "Weather_Conditions                                 126\n",
       "Road_Surface_Conditions                           1958\n",
       "Special_Conditions_at_Site                          15\n",
       "Carriageway_Hazards                                 29\n",
       "Urban_or_Rural_Area                                  0\n",
       "Did_Police_Officer_Attend_Scene_of_Accident       2922\n",
       "LSOA_of_Accident_Location                       108238\n",
       "Year                                                 0\n",
       "dtype: int64"
      ]
     },
     "execution_count": 5,
     "metadata": {},
     "output_type": "execute_result"
    }
   ],
   "source": [
    "unfall.isnull().sum()\n"
   ]
  },
  {
   "cell_type": "code",
   "execution_count": 6,
   "id": "7aeed941",
   "metadata": {
    "execution": {
     "iopub.execute_input": "2022-11-27T13:50:31.511184Z",
     "iopub.status.busy": "2022-11-27T13:50:31.509957Z",
     "iopub.status.idle": "2022-11-27T13:50:32.742889Z",
     "shell.execute_reply": "2022-11-27T13:50:32.741476Z"
    },
    "papermill": {
     "duration": 1.249229,
     "end_time": "2022-11-27T13:50:32.745644",
     "exception": false,
     "start_time": "2022-11-27T13:50:31.496415",
     "status": "completed"
    },
    "tags": []
   },
   "outputs": [],
   "source": [
    "unfall = unfall.loc[:,[\"Accident_Severity\",\"Number_of_Casualties\",\"Day_of_Week\",\"Date\",\"Time\",\"Local_Authority_(District)\"\n",
    "                         ,\"Local_Authority_(Highway)\",\"Road_Type\",\"Speed_limit\",\"Light_Conditions\",\"Weather_Conditions\",\n",
    "                        \"Road_Surface_Conditions\",\"Year\"]]\n"
   ]
  },
  {
   "cell_type": "code",
   "execution_count": 7,
   "id": "7a4e3ba4",
   "metadata": {
    "execution": {
     "iopub.execute_input": "2022-11-27T13:50:32.772635Z",
     "iopub.status.busy": "2022-11-27T13:50:32.771965Z",
     "iopub.status.idle": "2022-11-27T13:50:32.790863Z",
     "shell.execute_reply": "2022-11-27T13:50:32.789579Z"
    },
    "papermill": {
     "duration": 0.03468,
     "end_time": "2022-11-27T13:50:32.793235",
     "exception": false,
     "start_time": "2022-11-27T13:50:32.758555",
     "status": "completed"
    },
    "tags": []
   },
   "outputs": [
    {
     "data": {
      "text/html": [
       "<div>\n",
       "<style scoped>\n",
       "    .dataframe tbody tr th:only-of-type {\n",
       "        vertical-align: middle;\n",
       "    }\n",
       "\n",
       "    .dataframe tbody tr th {\n",
       "        vertical-align: top;\n",
       "    }\n",
       "\n",
       "    .dataframe thead th {\n",
       "        text-align: right;\n",
       "    }\n",
       "</style>\n",
       "<table border=\"1\" class=\"dataframe\">\n",
       "  <thead>\n",
       "    <tr style=\"text-align: right;\">\n",
       "      <th></th>\n",
       "      <th>Accident_Severity</th>\n",
       "      <th>Number_of_Casualties</th>\n",
       "      <th>Day_of_Week</th>\n",
       "      <th>Date</th>\n",
       "      <th>Time</th>\n",
       "      <th>Local_Authority_(District)</th>\n",
       "      <th>Local_Authority_(Highway)</th>\n",
       "      <th>Road_Type</th>\n",
       "      <th>Speed_limit</th>\n",
       "      <th>Light_Conditions</th>\n",
       "      <th>Weather_Conditions</th>\n",
       "      <th>Road_Surface_Conditions</th>\n",
       "      <th>Year</th>\n",
       "    </tr>\n",
       "  </thead>\n",
       "  <tbody>\n",
       "    <tr>\n",
       "      <th>464687</th>\n",
       "      <td>3</td>\n",
       "      <td>1</td>\n",
       "      <td>2</td>\n",
       "      <td>24/11/2014</td>\n",
       "      <td>06:50</td>\n",
       "      <td>917</td>\n",
       "      <td>S12000006</td>\n",
       "      <td>Dual carriageway</td>\n",
       "      <td>70</td>\n",
       "      <td>Darkeness: No street lighting</td>\n",
       "      <td>Fine without high winds</td>\n",
       "      <td>Wet/Damp</td>\n",
       "      <td>2014</td>\n",
       "    </tr>\n",
       "    <tr>\n",
       "      <th>464688</th>\n",
       "      <td>1</td>\n",
       "      <td>3</td>\n",
       "      <td>3</td>\n",
       "      <td>25/11/2014</td>\n",
       "      <td>15:30</td>\n",
       "      <td>917</td>\n",
       "      <td>S12000006</td>\n",
       "      <td>Single carriageway</td>\n",
       "      <td>60</td>\n",
       "      <td>Daylight: Street light present</td>\n",
       "      <td>Fine without high winds</td>\n",
       "      <td>Wet/Damp</td>\n",
       "      <td>2014</td>\n",
       "    </tr>\n",
       "    <tr>\n",
       "      <th>464689</th>\n",
       "      <td>3</td>\n",
       "      <td>1</td>\n",
       "      <td>4</td>\n",
       "      <td>03/12/2014</td>\n",
       "      <td>19:30</td>\n",
       "      <td>917</td>\n",
       "      <td>S12000006</td>\n",
       "      <td>Single carriageway</td>\n",
       "      <td>60</td>\n",
       "      <td>Darkeness: No street lighting</td>\n",
       "      <td>Fog or mist</td>\n",
       "      <td>Wet/Damp</td>\n",
       "      <td>2014</td>\n",
       "    </tr>\n",
       "    <tr>\n",
       "      <th>464690</th>\n",
       "      <td>3</td>\n",
       "      <td>1</td>\n",
       "      <td>7</td>\n",
       "      <td>06/12/2014</td>\n",
       "      <td>03:00</td>\n",
       "      <td>917</td>\n",
       "      <td>S12000006</td>\n",
       "      <td>Single carriageway</td>\n",
       "      <td>40</td>\n",
       "      <td>Darkeness: No street lighting</td>\n",
       "      <td>Other</td>\n",
       "      <td>Wet/Damp</td>\n",
       "      <td>2014</td>\n",
       "    </tr>\n",
       "    <tr>\n",
       "      <th>464691</th>\n",
       "      <td>3</td>\n",
       "      <td>1</td>\n",
       "      <td>2</td>\n",
       "      <td>08/12/2014</td>\n",
       "      <td>09:16</td>\n",
       "      <td>917</td>\n",
       "      <td>S12000006</td>\n",
       "      <td>Dual carriageway</td>\n",
       "      <td>70</td>\n",
       "      <td>Daylight: Street light present</td>\n",
       "      <td>Fine without high winds</td>\n",
       "      <td>Snow</td>\n",
       "      <td>2014</td>\n",
       "    </tr>\n",
       "    <tr>\n",
       "      <th>464692</th>\n",
       "      <td>2</td>\n",
       "      <td>1</td>\n",
       "      <td>1</td>\n",
       "      <td>07/12/2014</td>\n",
       "      <td>22:20</td>\n",
       "      <td>917</td>\n",
       "      <td>S12000006</td>\n",
       "      <td>Dual carriageway</td>\n",
       "      <td>70</td>\n",
       "      <td>Darkeness: No street lighting</td>\n",
       "      <td>Snowing without high winds</td>\n",
       "      <td>Snow</td>\n",
       "      <td>2014</td>\n",
       "    </tr>\n",
       "    <tr>\n",
       "      <th>464693</th>\n",
       "      <td>3</td>\n",
       "      <td>2</td>\n",
       "      <td>5</td>\n",
       "      <td>11/12/2014</td>\n",
       "      <td>06:40</td>\n",
       "      <td>917</td>\n",
       "      <td>S12000006</td>\n",
       "      <td>Dual carriageway</td>\n",
       "      <td>70</td>\n",
       "      <td>Darkeness: No street lighting</td>\n",
       "      <td>Fine without high winds</td>\n",
       "      <td>Snow</td>\n",
       "      <td>2014</td>\n",
       "    </tr>\n",
       "    <tr>\n",
       "      <th>464694</th>\n",
       "      <td>3</td>\n",
       "      <td>1</td>\n",
       "      <td>3</td>\n",
       "      <td>09/12/2014</td>\n",
       "      <td>02:00</td>\n",
       "      <td>917</td>\n",
       "      <td>S12000006</td>\n",
       "      <td>Single carriageway</td>\n",
       "      <td>40</td>\n",
       "      <td>Darkness: Street lights present and lit</td>\n",
       "      <td>Fine without high winds</td>\n",
       "      <td>Frost/Ice</td>\n",
       "      <td>2014</td>\n",
       "    </tr>\n",
       "    <tr>\n",
       "      <th>464695</th>\n",
       "      <td>2</td>\n",
       "      <td>2</td>\n",
       "      <td>4</td>\n",
       "      <td>17/12/2014</td>\n",
       "      <td>06:55</td>\n",
       "      <td>917</td>\n",
       "      <td>S12000006</td>\n",
       "      <td>Single carriageway</td>\n",
       "      <td>60</td>\n",
       "      <td>Darkeness: No street lighting</td>\n",
       "      <td>Raining without high winds</td>\n",
       "      <td>Wet/Damp</td>\n",
       "      <td>2014</td>\n",
       "    </tr>\n",
       "    <tr>\n",
       "      <th>464696</th>\n",
       "      <td>3</td>\n",
       "      <td>2</td>\n",
       "      <td>4</td>\n",
       "      <td>24/12/2014</td>\n",
       "      <td>15:00</td>\n",
       "      <td>917</td>\n",
       "      <td>S12000006</td>\n",
       "      <td>Single carriageway</td>\n",
       "      <td>60</td>\n",
       "      <td>Daylight: Street light present</td>\n",
       "      <td>Fine without high winds</td>\n",
       "      <td>Wet/Damp</td>\n",
       "      <td>2014</td>\n",
       "    </tr>\n",
       "  </tbody>\n",
       "</table>\n",
       "</div>"
      ],
      "text/plain": [
       "        Accident_Severity  Number_of_Casualties  Day_of_Week        Date  \\\n",
       "464687                  3                     1            2  24/11/2014   \n",
       "464688                  1                     3            3  25/11/2014   \n",
       "464689                  3                     1            4  03/12/2014   \n",
       "464690                  3                     1            7  06/12/2014   \n",
       "464691                  3                     1            2  08/12/2014   \n",
       "464692                  2                     1            1  07/12/2014   \n",
       "464693                  3                     2            5  11/12/2014   \n",
       "464694                  3                     1            3  09/12/2014   \n",
       "464695                  2                     2            4  17/12/2014   \n",
       "464696                  3                     2            4  24/12/2014   \n",
       "\n",
       "         Time  Local_Authority_(District) Local_Authority_(Highway)  \\\n",
       "464687  06:50                         917                 S12000006   \n",
       "464688  15:30                         917                 S12000006   \n",
       "464689  19:30                         917                 S12000006   \n",
       "464690  03:00                         917                 S12000006   \n",
       "464691  09:16                         917                 S12000006   \n",
       "464692  22:20                         917                 S12000006   \n",
       "464693  06:40                         917                 S12000006   \n",
       "464694  02:00                         917                 S12000006   \n",
       "464695  06:55                         917                 S12000006   \n",
       "464696  15:00                         917                 S12000006   \n",
       "\n",
       "                 Road_Type  Speed_limit  \\\n",
       "464687    Dual carriageway           70   \n",
       "464688  Single carriageway           60   \n",
       "464689  Single carriageway           60   \n",
       "464690  Single carriageway           40   \n",
       "464691    Dual carriageway           70   \n",
       "464692    Dual carriageway           70   \n",
       "464693    Dual carriageway           70   \n",
       "464694  Single carriageway           40   \n",
       "464695  Single carriageway           60   \n",
       "464696  Single carriageway           60   \n",
       "\n",
       "                               Light_Conditions          Weather_Conditions  \\\n",
       "464687            Darkeness: No street lighting     Fine without high winds   \n",
       "464688           Daylight: Street light present     Fine without high winds   \n",
       "464689            Darkeness: No street lighting                 Fog or mist   \n",
       "464690            Darkeness: No street lighting                       Other   \n",
       "464691           Daylight: Street light present     Fine without high winds   \n",
       "464692            Darkeness: No street lighting  Snowing without high winds   \n",
       "464693            Darkeness: No street lighting     Fine without high winds   \n",
       "464694  Darkness: Street lights present and lit     Fine without high winds   \n",
       "464695            Darkeness: No street lighting  Raining without high winds   \n",
       "464696           Daylight: Street light present     Fine without high winds   \n",
       "\n",
       "       Road_Surface_Conditions  Year  \n",
       "464687                Wet/Damp  2014  \n",
       "464688                Wet/Damp  2014  \n",
       "464689                Wet/Damp  2014  \n",
       "464690                Wet/Damp  2014  \n",
       "464691                    Snow  2014  \n",
       "464692                    Snow  2014  \n",
       "464693                    Snow  2014  \n",
       "464694               Frost/Ice  2014  \n",
       "464695                Wet/Damp  2014  \n",
       "464696                Wet/Damp  2014  "
      ]
     },
     "execution_count": 7,
     "metadata": {},
     "output_type": "execute_result"
    }
   ],
   "source": [
    "unfall.tail(10)\n"
   ]
  },
  {
   "cell_type": "code",
   "execution_count": 8,
   "id": "c0105827",
   "metadata": {
    "execution": {
     "iopub.execute_input": "2022-11-27T13:50:32.820665Z",
     "iopub.status.busy": "2022-11-27T13:50:32.820255Z",
     "iopub.status.idle": "2022-11-27T13:50:33.281292Z",
     "shell.execute_reply": "2022-11-27T13:50:33.280062Z"
    },
    "papermill": {
     "duration": 0.478184,
     "end_time": "2022-11-27T13:50:33.283957",
     "exception": false,
     "start_time": "2022-11-27T13:50:32.805773",
     "status": "completed"
    },
    "tags": []
   },
   "outputs": [
    {
     "data": {
      "text/plain": [
       "Accident_Severity                0\n",
       "Number_of_Casualties             0\n",
       "Day_of_Week                      0\n",
       "Date                             0\n",
       "Time                           117\n",
       "Local_Authority_(District)       0\n",
       "Local_Authority_(Highway)        0\n",
       "Road_Type                        0\n",
       "Speed_limit                      0\n",
       "Light_Conditions                 0\n",
       "Weather_Conditions             126\n",
       "Road_Surface_Conditions       1958\n",
       "Year                             0\n",
       "dtype: int64"
      ]
     },
     "execution_count": 8,
     "metadata": {},
     "output_type": "execute_result"
    }
   ],
   "source": [
    "unfall.isnull().sum()"
   ]
  },
  {
   "cell_type": "code",
   "execution_count": 9,
   "id": "6ec6074a",
   "metadata": {
    "execution": {
     "iopub.execute_input": "2022-11-27T13:50:33.314175Z",
     "iopub.status.busy": "2022-11-27T13:50:33.312904Z",
     "iopub.status.idle": "2022-11-27T13:50:33.320577Z",
     "shell.execute_reply": "2022-11-27T13:50:33.319472Z"
    },
    "papermill": {
     "duration": 0.025278,
     "end_time": "2022-11-27T13:50:33.323419",
     "exception": false,
     "start_time": "2022-11-27T13:50:33.298141",
     "status": "completed"
    },
    "tags": []
   },
   "outputs": [
    {
     "data": {
      "text/plain": [
       "(1504150, 13)"
      ]
     },
     "execution_count": 9,
     "metadata": {},
     "output_type": "execute_result"
    }
   ],
   "source": [
    "unfall.shape\n"
   ]
  },
  {
   "cell_type": "code",
   "execution_count": 10,
   "id": "fa94f350",
   "metadata": {
    "execution": {
     "iopub.execute_input": "2022-11-27T13:50:33.351424Z",
     "iopub.status.busy": "2022-11-27T13:50:33.350541Z",
     "iopub.status.idle": "2022-11-27T13:50:34.049237Z",
     "shell.execute_reply": "2022-11-27T13:50:34.047893Z"
    },
    "papermill": {
     "duration": 0.715825,
     "end_time": "2022-11-27T13:50:34.052487",
     "exception": false,
     "start_time": "2022-11-27T13:50:33.336662",
     "status": "completed"
    },
    "tags": []
   },
   "outputs": [
    {
     "data": {
      "text/plain": [
       "(1501957, 13)"
      ]
     },
     "execution_count": 10,
     "metadata": {},
     "output_type": "execute_result"
    }
   ],
   "source": [
    "unfall= unfall.dropna()\n",
    "unfall.shape"
   ]
  },
  {
   "cell_type": "code",
   "execution_count": 11,
   "id": "e9ab7d79",
   "metadata": {
    "execution": {
     "iopub.execute_input": "2022-11-27T13:50:34.079614Z",
     "iopub.status.busy": "2022-11-27T13:50:34.079183Z",
     "iopub.status.idle": "2022-11-27T13:50:34.534095Z",
     "shell.execute_reply": "2022-11-27T13:50:34.532879Z"
    },
    "papermill": {
     "duration": 0.471655,
     "end_time": "2022-11-27T13:50:34.536843",
     "exception": false,
     "start_time": "2022-11-27T13:50:34.065188",
     "status": "completed"
    },
    "tags": []
   },
   "outputs": [
    {
     "data": {
      "text/plain": [
       "Accident_Severity             0\n",
       "Number_of_Casualties          0\n",
       "Day_of_Week                   0\n",
       "Date                          0\n",
       "Time                          0\n",
       "Local_Authority_(District)    0\n",
       "Local_Authority_(Highway)     0\n",
       "Road_Type                     0\n",
       "Speed_limit                   0\n",
       "Light_Conditions              0\n",
       "Weather_Conditions            0\n",
       "Road_Surface_Conditions       0\n",
       "Year                          0\n",
       "dtype: int64"
      ]
     },
     "execution_count": 11,
     "metadata": {},
     "output_type": "execute_result"
    }
   ],
   "source": [
    "unfall.isnull().sum()\n"
   ]
  },
  {
   "cell_type": "code",
   "execution_count": 12,
   "id": "c651efa2",
   "metadata": {
    "execution": {
     "iopub.execute_input": "2022-11-27T13:50:34.564751Z",
     "iopub.status.busy": "2022-11-27T13:50:34.564339Z",
     "iopub.status.idle": "2022-11-27T13:50:34.573684Z",
     "shell.execute_reply": "2022-11-27T13:50:34.572293Z"
    },
    "papermill": {
     "duration": 0.026369,
     "end_time": "2022-11-27T13:50:34.576312",
     "exception": false,
     "start_time": "2022-11-27T13:50:34.549943",
     "status": "completed"
    },
    "tags": []
   },
   "outputs": [
    {
     "data": {
      "text/plain": [
       "Accident_Severity              int64\n",
       "Number_of_Casualties           int64\n",
       "Day_of_Week                    int64\n",
       "Date                          object\n",
       "Time                          object\n",
       "Local_Authority_(District)     int64\n",
       "Local_Authority_(Highway)     object\n",
       "Road_Type                     object\n",
       "Speed_limit                    int64\n",
       "Light_Conditions              object\n",
       "Weather_Conditions            object\n",
       "Road_Surface_Conditions       object\n",
       "Year                           int64\n",
       "dtype: object"
      ]
     },
     "execution_count": 12,
     "metadata": {},
     "output_type": "execute_result"
    }
   ],
   "source": [
    "unfall.dtypes\n"
   ]
  },
  {
   "cell_type": "code",
   "execution_count": 13,
   "id": "0b94630f",
   "metadata": {
    "execution": {
     "iopub.execute_input": "2022-11-27T13:50:34.604825Z",
     "iopub.status.busy": "2022-11-27T13:50:34.604411Z",
     "iopub.status.idle": "2022-11-27T13:50:36.826825Z",
     "shell.execute_reply": "2022-11-27T13:50:36.825499Z"
    },
    "papermill": {
     "duration": 2.239816,
     "end_time": "2022-11-27T13:50:36.829725",
     "exception": false,
     "start_time": "2022-11-27T13:50:34.589909",
     "status": "completed"
    },
    "tags": []
   },
   "outputs": [],
   "source": [
    "import datetime as dt\n",
    "import warnings\n",
    "warnings.filterwarnings('ignore')\n",
    "selRows = unfall[unfall['Time'].isna()].index\n",
    "unfall = unfall.drop(selRows, axis=0)\n",
    "unfall[\"Time\"] = pd.to_datetime(unfall[\"Time\"], format='%H:%M')\n",
    "unfall[\"Hour\"] = unfall[\"Time\"].dt.hour\n",
    "unfall[\"Month\"] = pd.DatetimeIndex(unfall[\"Date\"]).month"
   ]
  },
  {
   "cell_type": "code",
   "execution_count": 14,
   "id": "5c3b4621",
   "metadata": {
    "execution": {
     "iopub.execute_input": "2022-11-27T13:50:36.858874Z",
     "iopub.status.busy": "2022-11-27T13:50:36.858458Z",
     "iopub.status.idle": "2022-11-27T13:50:36.868502Z",
     "shell.execute_reply": "2022-11-27T13:50:36.867343Z"
    },
    "papermill": {
     "duration": 0.027627,
     "end_time": "2022-11-27T13:50:36.871027",
     "exception": false,
     "start_time": "2022-11-27T13:50:36.843400",
     "status": "completed"
    },
    "tags": []
   },
   "outputs": [
    {
     "data": {
      "text/plain": [
       "Accident_Severity                      int64\n",
       "Number_of_Casualties                   int64\n",
       "Day_of_Week                            int64\n",
       "Date                                  object\n",
       "Time                          datetime64[ns]\n",
       "Local_Authority_(District)             int64\n",
       "Local_Authority_(Highway)             object\n",
       "Road_Type                             object\n",
       "Speed_limit                            int64\n",
       "Light_Conditions                      object\n",
       "Weather_Conditions                    object\n",
       "Road_Surface_Conditions               object\n",
       "Year                                   int64\n",
       "Hour                                   int64\n",
       "Month                                  int64\n",
       "dtype: object"
      ]
     },
     "execution_count": 14,
     "metadata": {},
     "output_type": "execute_result"
    }
   ],
   "source": [
    "unfall.dtypes\n"
   ]
  },
  {
   "cell_type": "code",
   "execution_count": 15,
   "id": "26c24609",
   "metadata": {
    "execution": {
     "iopub.execute_input": "2022-11-27T13:50:36.899585Z",
     "iopub.status.busy": "2022-11-27T13:50:36.899141Z",
     "iopub.status.idle": "2022-11-27T13:50:36.919558Z",
     "shell.execute_reply": "2022-11-27T13:50:36.918435Z"
    },
    "papermill": {
     "duration": 0.0375,
     "end_time": "2022-11-27T13:50:36.921949",
     "exception": false,
     "start_time": "2022-11-27T13:50:36.884449",
     "status": "completed"
    },
    "tags": []
   },
   "outputs": [
    {
     "data": {
      "text/html": [
       "<div>\n",
       "<style scoped>\n",
       "    .dataframe tbody tr th:only-of-type {\n",
       "        vertical-align: middle;\n",
       "    }\n",
       "\n",
       "    .dataframe tbody tr th {\n",
       "        vertical-align: top;\n",
       "    }\n",
       "\n",
       "    .dataframe thead th {\n",
       "        text-align: right;\n",
       "    }\n",
       "</style>\n",
       "<table border=\"1\" class=\"dataframe\">\n",
       "  <thead>\n",
       "    <tr style=\"text-align: right;\">\n",
       "      <th></th>\n",
       "      <th>Accident_Severity</th>\n",
       "      <th>Number_of_Casualties</th>\n",
       "      <th>Day_of_Week</th>\n",
       "      <th>Date</th>\n",
       "      <th>Time</th>\n",
       "      <th>Local_Authority_(District)</th>\n",
       "      <th>Local_Authority_(Highway)</th>\n",
       "      <th>Road_Type</th>\n",
       "      <th>Speed_limit</th>\n",
       "      <th>Light_Conditions</th>\n",
       "      <th>Weather_Conditions</th>\n",
       "      <th>Road_Surface_Conditions</th>\n",
       "      <th>Year</th>\n",
       "      <th>Hour</th>\n",
       "      <th>Month</th>\n",
       "    </tr>\n",
       "  </thead>\n",
       "  <tbody>\n",
       "    <tr>\n",
       "      <th>0</th>\n",
       "      <td>2</td>\n",
       "      <td>1</td>\n",
       "      <td>3</td>\n",
       "      <td>04/01/2005</td>\n",
       "      <td>1900-01-01 17:42:00</td>\n",
       "      <td>12</td>\n",
       "      <td>E09000020</td>\n",
       "      <td>Single carriageway</td>\n",
       "      <td>30</td>\n",
       "      <td>Daylight: Street light present</td>\n",
       "      <td>Raining without high winds</td>\n",
       "      <td>Wet/Damp</td>\n",
       "      <td>2005</td>\n",
       "      <td>17</td>\n",
       "      <td>4</td>\n",
       "    </tr>\n",
       "    <tr>\n",
       "      <th>1</th>\n",
       "      <td>3</td>\n",
       "      <td>1</td>\n",
       "      <td>4</td>\n",
       "      <td>05/01/2005</td>\n",
       "      <td>1900-01-01 17:36:00</td>\n",
       "      <td>12</td>\n",
       "      <td>E09000020</td>\n",
       "      <td>Dual carriageway</td>\n",
       "      <td>30</td>\n",
       "      <td>Darkness: Street lights present and lit</td>\n",
       "      <td>Fine without high winds</td>\n",
       "      <td>Dry</td>\n",
       "      <td>2005</td>\n",
       "      <td>17</td>\n",
       "      <td>5</td>\n",
       "    </tr>\n",
       "    <tr>\n",
       "      <th>2</th>\n",
       "      <td>3</td>\n",
       "      <td>1</td>\n",
       "      <td>5</td>\n",
       "      <td>06/01/2005</td>\n",
       "      <td>1900-01-01 00:15:00</td>\n",
       "      <td>12</td>\n",
       "      <td>E09000020</td>\n",
       "      <td>Single carriageway</td>\n",
       "      <td>30</td>\n",
       "      <td>Darkness: Street lights present and lit</td>\n",
       "      <td>Fine without high winds</td>\n",
       "      <td>Dry</td>\n",
       "      <td>2005</td>\n",
       "      <td>0</td>\n",
       "      <td>6</td>\n",
       "    </tr>\n",
       "    <tr>\n",
       "      <th>3</th>\n",
       "      <td>3</td>\n",
       "      <td>1</td>\n",
       "      <td>6</td>\n",
       "      <td>07/01/2005</td>\n",
       "      <td>1900-01-01 10:35:00</td>\n",
       "      <td>12</td>\n",
       "      <td>E09000020</td>\n",
       "      <td>Single carriageway</td>\n",
       "      <td>30</td>\n",
       "      <td>Daylight: Street light present</td>\n",
       "      <td>Fine without high winds</td>\n",
       "      <td>Dry</td>\n",
       "      <td>2005</td>\n",
       "      <td>10</td>\n",
       "      <td>7</td>\n",
       "    </tr>\n",
       "    <tr>\n",
       "      <th>4</th>\n",
       "      <td>3</td>\n",
       "      <td>1</td>\n",
       "      <td>2</td>\n",
       "      <td>10/01/2005</td>\n",
       "      <td>1900-01-01 21:13:00</td>\n",
       "      <td>12</td>\n",
       "      <td>E09000020</td>\n",
       "      <td>Single carriageway</td>\n",
       "      <td>30</td>\n",
       "      <td>Darkness: Street lighting unknown</td>\n",
       "      <td>Fine without high winds</td>\n",
       "      <td>Wet/Damp</td>\n",
       "      <td>2005</td>\n",
       "      <td>21</td>\n",
       "      <td>10</td>\n",
       "    </tr>\n",
       "    <tr>\n",
       "      <th>5</th>\n",
       "      <td>3</td>\n",
       "      <td>1</td>\n",
       "      <td>3</td>\n",
       "      <td>11/01/2005</td>\n",
       "      <td>1900-01-01 12:40:00</td>\n",
       "      <td>12</td>\n",
       "      <td>E09000020</td>\n",
       "      <td>Single carriageway</td>\n",
       "      <td>30</td>\n",
       "      <td>Daylight: Street light present</td>\n",
       "      <td>Raining without high winds</td>\n",
       "      <td>Wet/Damp</td>\n",
       "      <td>2005</td>\n",
       "      <td>12</td>\n",
       "      <td>11</td>\n",
       "    </tr>\n",
       "    <tr>\n",
       "      <th>6</th>\n",
       "      <td>3</td>\n",
       "      <td>1</td>\n",
       "      <td>5</td>\n",
       "      <td>13/01/2005</td>\n",
       "      <td>1900-01-01 20:40:00</td>\n",
       "      <td>12</td>\n",
       "      <td>E09000020</td>\n",
       "      <td>Single carriageway</td>\n",
       "      <td>30</td>\n",
       "      <td>Darkness: Street lights present and lit</td>\n",
       "      <td>Fine without high winds</td>\n",
       "      <td>Dry</td>\n",
       "      <td>2005</td>\n",
       "      <td>20</td>\n",
       "      <td>1</td>\n",
       "    </tr>\n",
       "    <tr>\n",
       "      <th>7</th>\n",
       "      <td>3</td>\n",
       "      <td>2</td>\n",
       "      <td>6</td>\n",
       "      <td>14/01/2005</td>\n",
       "      <td>1900-01-01 17:35:00</td>\n",
       "      <td>12</td>\n",
       "      <td>E09000020</td>\n",
       "      <td>Dual carriageway</td>\n",
       "      <td>30</td>\n",
       "      <td>Daylight: Street light present</td>\n",
       "      <td>Fine without high winds</td>\n",
       "      <td>Dry</td>\n",
       "      <td>2005</td>\n",
       "      <td>17</td>\n",
       "      <td>1</td>\n",
       "    </tr>\n",
       "    <tr>\n",
       "      <th>8</th>\n",
       "      <td>3</td>\n",
       "      <td>2</td>\n",
       "      <td>7</td>\n",
       "      <td>15/01/2005</td>\n",
       "      <td>1900-01-01 22:43:00</td>\n",
       "      <td>12</td>\n",
       "      <td>E09000020</td>\n",
       "      <td>Single carriageway</td>\n",
       "      <td>30</td>\n",
       "      <td>Darkness: Street lights present and lit</td>\n",
       "      <td>Fine without high winds</td>\n",
       "      <td>Dry</td>\n",
       "      <td>2005</td>\n",
       "      <td>22</td>\n",
       "      <td>1</td>\n",
       "    </tr>\n",
       "    <tr>\n",
       "      <th>9</th>\n",
       "      <td>3</td>\n",
       "      <td>5</td>\n",
       "      <td>7</td>\n",
       "      <td>15/01/2005</td>\n",
       "      <td>1900-01-01 16:00:00</td>\n",
       "      <td>12</td>\n",
       "      <td>E09000020</td>\n",
       "      <td>Single carriageway</td>\n",
       "      <td>30</td>\n",
       "      <td>Daylight: Street light present</td>\n",
       "      <td>Fine without high winds</td>\n",
       "      <td>Dry</td>\n",
       "      <td>2005</td>\n",
       "      <td>16</td>\n",
       "      <td>1</td>\n",
       "    </tr>\n",
       "  </tbody>\n",
       "</table>\n",
       "</div>"
      ],
      "text/plain": [
       "   Accident_Severity  Number_of_Casualties  Day_of_Week        Date  \\\n",
       "0                  2                     1            3  04/01/2005   \n",
       "1                  3                     1            4  05/01/2005   \n",
       "2                  3                     1            5  06/01/2005   \n",
       "3                  3                     1            6  07/01/2005   \n",
       "4                  3                     1            2  10/01/2005   \n",
       "5                  3                     1            3  11/01/2005   \n",
       "6                  3                     1            5  13/01/2005   \n",
       "7                  3                     2            6  14/01/2005   \n",
       "8                  3                     2            7  15/01/2005   \n",
       "9                  3                     5            7  15/01/2005   \n",
       "\n",
       "                 Time  Local_Authority_(District) Local_Authority_(Highway)  \\\n",
       "0 1900-01-01 17:42:00                          12                 E09000020   \n",
       "1 1900-01-01 17:36:00                          12                 E09000020   \n",
       "2 1900-01-01 00:15:00                          12                 E09000020   \n",
       "3 1900-01-01 10:35:00                          12                 E09000020   \n",
       "4 1900-01-01 21:13:00                          12                 E09000020   \n",
       "5 1900-01-01 12:40:00                          12                 E09000020   \n",
       "6 1900-01-01 20:40:00                          12                 E09000020   \n",
       "7 1900-01-01 17:35:00                          12                 E09000020   \n",
       "8 1900-01-01 22:43:00                          12                 E09000020   \n",
       "9 1900-01-01 16:00:00                          12                 E09000020   \n",
       "\n",
       "            Road_Type  Speed_limit                         Light_Conditions  \\\n",
       "0  Single carriageway           30           Daylight: Street light present   \n",
       "1    Dual carriageway           30  Darkness: Street lights present and lit   \n",
       "2  Single carriageway           30  Darkness: Street lights present and lit   \n",
       "3  Single carriageway           30           Daylight: Street light present   \n",
       "4  Single carriageway           30        Darkness: Street lighting unknown   \n",
       "5  Single carriageway           30           Daylight: Street light present   \n",
       "6  Single carriageway           30  Darkness: Street lights present and lit   \n",
       "7    Dual carriageway           30           Daylight: Street light present   \n",
       "8  Single carriageway           30  Darkness: Street lights present and lit   \n",
       "9  Single carriageway           30           Daylight: Street light present   \n",
       "\n",
       "           Weather_Conditions Road_Surface_Conditions  Year  Hour  Month  \n",
       "0  Raining without high winds                Wet/Damp  2005    17      4  \n",
       "1     Fine without high winds                     Dry  2005    17      5  \n",
       "2     Fine without high winds                     Dry  2005     0      6  \n",
       "3     Fine without high winds                     Dry  2005    10      7  \n",
       "4     Fine without high winds                Wet/Damp  2005    21     10  \n",
       "5  Raining without high winds                Wet/Damp  2005    12     11  \n",
       "6     Fine without high winds                     Dry  2005    20      1  \n",
       "7     Fine without high winds                     Dry  2005    17      1  \n",
       "8     Fine without high winds                     Dry  2005    22      1  \n",
       "9     Fine without high winds                     Dry  2005    16      1  "
      ]
     },
     "execution_count": 15,
     "metadata": {},
     "output_type": "execute_result"
    }
   ],
   "source": [
    "unfall.head(10)\n"
   ]
  },
  {
   "cell_type": "code",
   "execution_count": 16,
   "id": "0fb2b6c4",
   "metadata": {
    "execution": {
     "iopub.execute_input": "2022-11-27T13:50:36.951381Z",
     "iopub.status.busy": "2022-11-27T13:50:36.950942Z",
     "iopub.status.idle": "2022-11-27T13:50:36.970573Z",
     "shell.execute_reply": "2022-11-27T13:50:36.969268Z"
    },
    "papermill": {
     "duration": 0.037216,
     "end_time": "2022-11-27T13:50:36.973031",
     "exception": false,
     "start_time": "2022-11-27T13:50:36.935815",
     "status": "completed"
    },
    "tags": []
   },
   "outputs": [
    {
     "data": {
      "text/plain": [
       "array([2005, 2006, 2007, 2009, 2010, 2011, 2012, 2013, 2014])"
      ]
     },
     "execution_count": 16,
     "metadata": {},
     "output_type": "execute_result"
    }
   ],
   "source": [
    "unfall[\"Year\"].unique()\n"
   ]
  },
  {
   "cell_type": "code",
   "execution_count": 17,
   "id": "2da1e193",
   "metadata": {
    "execution": {
     "iopub.execute_input": "2022-11-27T13:50:37.002525Z",
     "iopub.status.busy": "2022-11-27T13:50:37.002102Z",
     "iopub.status.idle": "2022-11-27T13:50:37.938662Z",
     "shell.execute_reply": "2022-11-27T13:50:37.937460Z"
    },
    "papermill": {
     "duration": 0.95457,
     "end_time": "2022-11-27T13:50:37.941398",
     "exception": false,
     "start_time": "2022-11-27T13:50:36.986828",
     "status": "completed"
    },
    "tags": []
   },
   "outputs": [],
   "source": [
    "unfall.Year = unfall.Year.astype(str)\n",
    "zahl_der_unfalle = unfall.groupby(\"Year\")"
   ]
  },
  {
   "cell_type": "code",
   "execution_count": 18,
   "id": "75c7108d",
   "metadata": {
    "execution": {
     "iopub.execute_input": "2022-11-27T13:50:37.970905Z",
     "iopub.status.busy": "2022-11-27T13:50:37.970485Z",
     "iopub.status.idle": "2022-11-27T13:50:38.108597Z",
     "shell.execute_reply": "2022-11-27T13:50:38.107304Z"
    },
    "papermill": {
     "duration": 0.155941,
     "end_time": "2022-11-27T13:50:38.111304",
     "exception": false,
     "start_time": "2022-11-27T13:50:37.955363",
     "status": "completed"
    },
    "tags": []
   },
   "outputs": [],
   "source": [
    "gesamtzahl_der_unfalle=pd.DataFrame(zahl_der_unfalle.size().sort_values(ascending=False),columns=[\"Nummer\"])"
   ]
  },
  {
   "cell_type": "code",
   "execution_count": 19,
   "id": "4e0429c8",
   "metadata": {
    "execution": {
     "iopub.execute_input": "2022-11-27T13:50:38.141115Z",
     "iopub.status.busy": "2022-11-27T13:50:38.140712Z",
     "iopub.status.idle": "2022-11-27T13:50:38.150996Z",
     "shell.execute_reply": "2022-11-27T13:50:38.149750Z"
    },
    "papermill": {
     "duration": 0.028196,
     "end_time": "2022-11-27T13:50:38.153322",
     "exception": false,
     "start_time": "2022-11-27T13:50:38.125126",
     "status": "completed"
    },
    "tags": []
   },
   "outputs": [
    {
     "data": {
      "text/html": [
       "<div>\n",
       "<style scoped>\n",
       "    .dataframe tbody tr th:only-of-type {\n",
       "        vertical-align: middle;\n",
       "    }\n",
       "\n",
       "    .dataframe tbody tr th {\n",
       "        vertical-align: top;\n",
       "    }\n",
       "\n",
       "    .dataframe thead th {\n",
       "        text-align: right;\n",
       "    }\n",
       "</style>\n",
       "<table border=\"1\" class=\"dataframe\">\n",
       "  <thead>\n",
       "    <tr style=\"text-align: right;\">\n",
       "      <th></th>\n",
       "      <th>Nummer</th>\n",
       "    </tr>\n",
       "    <tr>\n",
       "      <th>Year</th>\n",
       "      <th></th>\n",
       "    </tr>\n",
       "  </thead>\n",
       "  <tbody>\n",
       "    <tr>\n",
       "      <th>2005</th>\n",
       "      <td>198474</td>\n",
       "    </tr>\n",
       "    <tr>\n",
       "      <th>2006</th>\n",
       "      <td>188913</td>\n",
       "    </tr>\n",
       "    <tr>\n",
       "      <th>2007</th>\n",
       "      <td>181881</td>\n",
       "    </tr>\n",
       "    <tr>\n",
       "      <th>2012</th>\n",
       "      <td>179436</td>\n",
       "    </tr>\n",
       "    <tr>\n",
       "      <th>2009</th>\n",
       "      <td>163334</td>\n",
       "    </tr>\n",
       "  </tbody>\n",
       "</table>\n",
       "</div>"
      ],
      "text/plain": [
       "      Nummer\n",
       "Year        \n",
       "2005  198474\n",
       "2006  188913\n",
       "2007  181881\n",
       "2012  179436\n",
       "2009  163334"
      ]
     },
     "execution_count": 19,
     "metadata": {},
     "output_type": "execute_result"
    }
   ],
   "source": [
    "gesamtzahl_der_unfalle.head()"
   ]
  },
  {
   "cell_type": "code",
   "execution_count": 20,
   "id": "cef7ef57",
   "metadata": {
    "execution": {
     "iopub.execute_input": "2022-11-27T13:50:38.183108Z",
     "iopub.status.busy": "2022-11-27T13:50:38.182733Z",
     "iopub.status.idle": "2022-11-27T13:50:38.496591Z",
     "shell.execute_reply": "2022-11-27T13:50:38.495287Z"
    },
    "papermill": {
     "duration": 0.331674,
     "end_time": "2022-11-27T13:50:38.498994",
     "exception": false,
     "start_time": "2022-11-27T13:50:38.167320",
     "status": "completed"
    },
    "tags": []
   },
   "outputs": [
    {
     "data": {
      "text/plain": [
       "Text(0.5, 1.0, 'Jahrliche Zahl der Unfalle')"
      ]
     },
     "execution_count": 20,
     "metadata": {},
     "output_type": "execute_result"
    },
    {
     "data": {
      "image/png": "[encoded data removed]",
      "text/plain": [
       "<Figure size 432x288 with 1 Axes>"
      ]
     },
     "metadata": {
      "needs_background": "light"
     },
     "output_type": "display_data"
    }
   ],
   "source": [
    "sns.barplot(y = gesamtzahl_der_unfalle[\"Nummer\"] , x = gesamtzahl_der_unfalle.index)\n",
    "plt.title(\"Jahrliche Zahl der Unfalle\")"
   ]
  },
  {
   "cell_type": "code",
   "execution_count": 21,
   "id": "3dfd69f8",
   "metadata": {
    "execution": {
     "iopub.execute_input": "2022-11-27T13:50:38.529842Z",
     "iopub.status.busy": "2022-11-27T13:50:38.529420Z",
     "iopub.status.idle": "2022-11-27T13:50:38.677596Z",
     "shell.execute_reply": "2022-11-27T13:50:38.676446Z"
    },
    "papermill": {
     "duration": 0.166545,
     "end_time": "2022-11-27T13:50:38.680042",
     "exception": false,
     "start_time": "2022-11-27T13:50:38.513497",
     "status": "completed"
    },
    "tags": []
   },
   "outputs": [
    {
     "data": {
      "text/plain": [
       "array(['Daylight: Street light present',\n",
       "       'Darkness: Street lights present and lit',\n",
       "       'Darkness: Street lighting unknown',\n",
       "       'Darkness: Street lights present but unlit',\n",
       "       'Darkeness: No street lighting'], dtype=object)"
      ]
     },
     "execution_count": 21,
     "metadata": {},
     "output_type": "execute_result"
    }
   ],
   "source": [
    "unfall[\"Light_Conditions\"].unique()"
   ]
  },
  {
   "cell_type": "code",
   "execution_count": 22,
   "id": "d31232c1",
   "metadata": {
    "execution": {
     "iopub.execute_input": "2022-11-27T13:50:38.712155Z",
     "iopub.status.busy": "2022-11-27T13:50:38.710845Z",
     "iopub.status.idle": "2022-11-27T13:50:38.720042Z",
     "shell.execute_reply": "2022-11-27T13:50:38.718910Z"
    },
    "papermill": {
     "duration": 0.027743,
     "end_time": "2022-11-27T13:50:38.722594",
     "exception": false,
     "start_time": "2022-11-27T13:50:38.694851",
     "status": "completed"
    },
    "tags": []
   },
   "outputs": [
    {
     "data": {
      "text/plain": [
       "Accident_Severity                      int64\n",
       "Number_of_Casualties                   int64\n",
       "Day_of_Week                            int64\n",
       "Date                                  object\n",
       "Time                          datetime64[ns]\n",
       "Local_Authority_(District)             int64\n",
       "Local_Authority_(Highway)             object\n",
       "Road_Type                             object\n",
       "Speed_limit                            int64\n",
       "Light_Conditions                      object\n",
       "Weather_Conditions                    object\n",
       "Road_Surface_Conditions               object\n",
       "Year                                  object\n",
       "Hour                                   int64\n",
       "Month                                  int64\n",
       "dtype: object"
      ]
     },
     "execution_count": 22,
     "metadata": {},
     "output_type": "execute_result"
    }
   ],
   "source": [
    "unfall.dtypes\n"
   ]
  },
  {
   "cell_type": "code",
   "execution_count": 23,
   "id": "c2579036",
   "metadata": {
    "execution": {
     "iopub.execute_input": "2022-11-27T13:50:38.754551Z",
     "iopub.status.busy": "2022-11-27T13:50:38.754123Z",
     "iopub.status.idle": "2022-11-27T13:50:40.583823Z",
     "shell.execute_reply": "2022-11-27T13:50:40.582738Z"
    },
    "papermill": {
     "duration": 1.848942,
     "end_time": "2022-11-27T13:50:40.586534",
     "exception": false,
     "start_time": "2022-11-27T13:50:38.737592",
     "status": "completed"
    },
    "tags": []
   },
   "outputs": [],
   "source": [
    "unfall.Hour = unfall.Hour.astype(str)\n",
    "unfall.Month = unfall.Month.astype(str)"
   ]
  },
  {
   "cell_type": "code",
   "execution_count": 24,
   "id": "1ec9313c",
   "metadata": {
    "execution": {
     "iopub.execute_input": "2022-11-27T13:50:40.617566Z",
     "iopub.status.busy": "2022-11-27T13:50:40.617145Z",
     "iopub.status.idle": "2022-11-27T13:50:43.534487Z",
     "shell.execute_reply": "2022-11-27T13:50:43.533141Z"
    },
    "papermill": {
     "duration": 2.936798,
     "end_time": "2022-11-27T13:50:43.538071",
     "exception": false,
     "start_time": "2022-11-27T13:50:40.601273",
     "status": "completed"
    },
    "tags": []
   },
   "outputs": [
    {
     "data": {
      "image/png": "[encoded data removed]",
      "text/plain": [
       "<Figure size 1008x1008 with 6 Axes>"
      ]
     },
     "metadata": {
      "needs_background": "light"
     },
     "output_type": "display_data"
    }
   ],
   "source": [
    "f, axs = plt.subplots(3,2, figsize = (14,14), constrained_layout = True)\n",
    "\n",
    "road_nummer = unfall.groupby(\"Road_Type\")\n",
    "total_road=pd.DataFrame(road_nummer.size().sort_values(ascending=False),columns=[\"Road_total\"])\n",
    "light_nummer = unfall.groupby(\"Light_Conditions\")\n",
    "total_light=pd.DataFrame(light_nummer.size().sort_values(ascending=False),columns=[\"Light_toplam\"])\n",
    "weather_nummer = unfall.groupby(\"Weather_Conditions\")\n",
    "total_weather=pd.DataFrame(weather_nummer.size().sort_values(ascending=False),columns=[\"Weather_toplam\"])\n",
    "surface_nummer = unfall.groupby(\"Road_Surface_Conditions\")\n",
    "total_surface=pd.DataFrame(surface_nummer.size().sort_values(ascending=False),columns=[\"road_surface_toplam\"])\n",
    "Uhr_nummer = unfall.groupby(\"Hour\")\n",
    "total_uhr=pd.DataFrame(Uhr_nummer.size().sort_values(ascending=False),columns=[\"saat_toplam\"])\n",
    "month_nummer = unfall.groupby(\"Month\")\n",
    "total_month=pd.DataFrame(month_nummer.size().sort_values(ascending=False),columns=[\"ay_toplam\"])\n",
    "                       \n",
    "                       \n",
    "\n",
    "ax=sns.barplot(x=total_road.index, y=total_road[\"Road_total\"], data=total_road, ax = axs[0, 0])\n",
    "ax.tick_params(axis = 'x', rotation = 45)\n",
    "ax=sns.barplot(x=total_light.index,y=total_light[\"Light_toplam\"], data=total_light, ax = axs[0, 1])\n",
    "ax.tick_params(axis = 'x', rotation = 45)\n",
    "ax=sns.barplot(x=total_weather.index,y=total_weather[\"Weather_toplam\"], data=total_weather, ax = axs[1, 0])\n",
    "ax.tick_params(axis = 'x', rotation = 45)\n",
    "ax=sns.barplot(x=total_surface.index,y=total_surface[\"road_surface_toplam\"], data=total_surface, ax = axs[1, 1])\n",
    "ax.tick_params(axis = 'x', rotation = 45)\n",
    "ax=sns.barplot(x=total_uhr.index,y=total_uhr[\"saat_toplam\"], data = total_uhr, ax = axs[2, 0])\n",
    "ax.tick_params(axis = 'x', rotation = 45)\n",
    "ax=sns.barplot(x=total_month.index,y=total_month[\"ay_toplam\"], data=total_month, ax = axs[2, 1])\n",
    "ax.tick_params(axis = 'x', rotation = 45)\n",
    "axs[0, 0].title.set_text('Yol tipine göre kaza oranları')\n",
    "axs[0, 1].title.set_text('Işık koşullarına göre kaza oranları')\n",
    "axs[1, 0].title.set_text('Hava durumuna göre kaza oranları')\n",
    "axs[1, 1].title.set_text('Yol yüzey koşullarına göre kaza oranları')\n",
    "axs[2, 0].title.set_text('Saate göre kaza oranları')\n",
    "axs[2, 1].title.set_text('Aylara göre kaza oranları')"
   ]
  },
  {
   "cell_type": "code",
   "execution_count": 25,
   "id": "9f752701",
   "metadata": {
    "execution": {
     "iopub.execute_input": "2022-11-27T13:50:43.574165Z",
     "iopub.status.busy": "2022-11-27T13:50:43.573075Z",
     "iopub.status.idle": "2022-11-27T13:50:43.582462Z",
     "shell.execute_reply": "2022-11-27T13:50:43.581508Z"
    },
    "papermill": {
     "duration": 0.02956,
     "end_time": "2022-11-27T13:50:43.584592",
     "exception": false,
     "start_time": "2022-11-27T13:50:43.555032",
     "status": "completed"
    },
    "tags": []
   },
   "outputs": [
    {
     "data": {
      "text/plain": [
       "Accident_Severity                      int64\n",
       "Number_of_Casualties                   int64\n",
       "Day_of_Week                            int64\n",
       "Date                                  object\n",
       "Time                          datetime64[ns]\n",
       "Local_Authority_(District)             int64\n",
       "Local_Authority_(Highway)             object\n",
       "Road_Type                             object\n",
       "Speed_limit                            int64\n",
       "Light_Conditions                      object\n",
       "Weather_Conditions                    object\n",
       "Road_Surface_Conditions               object\n",
       "Year                                  object\n",
       "Hour                                  object\n",
       "Month                                 object\n",
       "dtype: object"
      ]
     },
     "execution_count": 25,
     "metadata": {},
     "output_type": "execute_result"
    }
   ],
   "source": [
    "unfall.dtypes"
   ]
  },
  {
   "cell_type": "code",
   "execution_count": 26,
   "id": "15f0a59b",
   "metadata": {
    "execution": {
     "iopub.execute_input": "2022-11-27T13:50:43.620628Z",
     "iopub.status.busy": "2022-11-27T13:50:43.619520Z",
     "iopub.status.idle": "2022-11-27T13:50:44.895741Z",
     "shell.execute_reply": "2022-11-27T13:50:44.894611Z"
    },
    "papermill": {
     "duration": 1.297086,
     "end_time": "2022-11-27T13:50:44.898211",
     "exception": false,
     "start_time": "2022-11-27T13:50:43.601125",
     "status": "completed"
    },
    "tags": []
   },
   "outputs": [
    {
     "data": {
      "text/plain": [
       "Text(0.5, 1.0, 'Hıza göre kaza sayısı')"
      ]
     },
     "execution_count": 26,
     "metadata": {},
     "output_type": "execute_result"
    },
    {
     "data": {
      "image/png": "[encoded data removed]",
      "text/plain": [
       "<Figure size 432x288 with 1 Axes>"
      ]
     },
     "metadata": {
      "needs_background": "light"
     },
     "output_type": "display_data"
    }
   ],
   "source": [
    "unfall.Speed_limit = unfall.Speed_limit.astype(str)\n",
    "speed_sayisi = unfall.groupby(\"Speed_limit\")\n",
    "toplam_speed=pd.DataFrame(speed_sayisi.size().sort_values(ascending=False),columns=[\"Speed_limit_toplam\"])\n",
    "sns.barplot(y = toplam_speed[\"Speed_limit_toplam\"] , x = toplam_speed.index)\n",
    "plt.title(\"Hıza göre kaza sayısı\")"
   ]
  },
  {
   "cell_type": "code",
   "execution_count": 27,
   "id": "5f3193b6",
   "metadata": {
    "execution": {
     "iopub.execute_input": "2022-11-27T13:50:44.934762Z",
     "iopub.status.busy": "2022-11-27T13:50:44.934301Z",
     "iopub.status.idle": "2022-11-27T13:50:44.950657Z",
     "shell.execute_reply": "2022-11-27T13:50:44.949503Z"
    },
    "papermill": {
     "duration": 0.037511,
     "end_time": "2022-11-27T13:50:44.953428",
     "exception": false,
     "start_time": "2022-11-27T13:50:44.915917",
     "status": "completed"
    },
    "tags": []
   },
   "outputs": [
    {
     "data": {
      "text/plain": [
       "array([ 1,  2,  5,  4,  3,  8,  7,  6, 10,  9, 23, 17, 13, 11, 19, 15, 16,\n",
       "       12, 14, 18, 20, 29, 21, 35, 22, 26, 45, 41, 36, 40, 25, 28, 42, 68,\n",
       "       27, 48, 24, 43, 87, 63, 51, 33, 38, 46, 70, 93, 54])"
      ]
     },
     "execution_count": 27,
     "metadata": {},
     "output_type": "execute_result"
    }
   ],
   "source": [
    "unfall[\"Number_of_Casualties\"].unique()"
   ]
  },
  {
   "cell_type": "code",
   "execution_count": 28,
   "id": "768ddb65",
   "metadata": {
    "execution": {
     "iopub.execute_input": "2022-11-27T13:50:44.989362Z",
     "iopub.status.busy": "2022-11-27T13:50:44.988928Z",
     "iopub.status.idle": "2022-11-27T13:50:44.997890Z",
     "shell.execute_reply": "2022-11-27T13:50:44.996727Z"
    },
    "papermill": {
     "duration": 0.029586,
     "end_time": "2022-11-27T13:50:45.000146",
     "exception": false,
     "start_time": "2022-11-27T13:50:44.970560",
     "status": "completed"
    },
    "tags": []
   },
   "outputs": [
    {
     "data": {
      "text/plain": [
       "Accident_Severity                      int64\n",
       "Number_of_Casualties                   int64\n",
       "Day_of_Week                            int64\n",
       "Date                                  object\n",
       "Time                          datetime64[ns]\n",
       "Local_Authority_(District)             int64\n",
       "Local_Authority_(Highway)             object\n",
       "Road_Type                             object\n",
       "Speed_limit                           object\n",
       "Light_Conditions                      object\n",
       "Weather_Conditions                    object\n",
       "Road_Surface_Conditions               object\n",
       "Year                                  object\n",
       "Hour                                  object\n",
       "Month                                 object\n",
       "dtype: object"
      ]
     },
     "execution_count": 28,
     "metadata": {},
     "output_type": "execute_result"
    }
   ],
   "source": [
    "unfall.dtypes"
   ]
  },
  {
   "cell_type": "code",
   "execution_count": 29,
   "id": "a08d0c3c",
   "metadata": {
    "execution": {
     "iopub.execute_input": "2022-11-27T13:50:45.038837Z",
     "iopub.status.busy": "2022-11-27T13:50:45.038082Z",
     "iopub.status.idle": "2022-11-27T13:50:47.024158Z",
     "shell.execute_reply": "2022-11-27T13:50:47.022655Z"
    },
    "papermill": {
     "duration": 2.007819,
     "end_time": "2022-11-27T13:50:47.027008",
     "exception": false,
     "start_time": "2022-11-27T13:50:45.019189",
     "status": "completed"
    },
    "tags": []
   },
   "outputs": [],
   "source": [
    "df = pd.get_dummies(unfall, columns=['Road_Type','Weather_Conditions','Light_Conditions','Road_Surface_Conditions',\n",
    "                                     ])"
   ]
  },
  {
   "cell_type": "code",
   "execution_count": 30,
   "id": "ddd7f2ae",
   "metadata": {
    "execution": {
     "iopub.execute_input": "2022-11-27T13:50:47.065828Z",
     "iopub.status.busy": "2022-11-27T13:50:47.065396Z",
     "iopub.status.idle": "2022-11-27T13:50:47.075226Z",
     "shell.execute_reply": "2022-11-27T13:50:47.074055Z"
    },
    "papermill": {
     "duration": 0.031898,
     "end_time": "2022-11-27T13:50:47.077633",
     "exception": false,
     "start_time": "2022-11-27T13:50:47.045735",
     "status": "completed"
    },
    "tags": []
   },
   "outputs": [
    {
     "data": {
      "text/plain": [
       "Accident_Severity                                                      int64\n",
       "Number_of_Casualties                                                   int64\n",
       "Day_of_Week                                                            int64\n",
       "Date                                                                  object\n",
       "Time                                                          datetime64[ns]\n",
       "Local_Authority_(District)                                             int64\n",
       "Local_Authority_(Highway)                                             object\n",
       "Speed_limit                                                           object\n",
       "Year                                                                  object\n",
       "Hour                                                                  object\n",
       "Month                                                                 object\n",
       "Road_Type_Dual carriageway                                             uint8\n",
       "Road_Type_One way street                                               uint8\n",
       "Road_Type_Roundabout                                                   uint8\n",
       "Road_Type_Single carriageway                                           uint8\n",
       "Road_Type_Slip road                                                    uint8\n",
       "Road_Type_Unknown                                                      uint8\n",
       "Weather_Conditions_Fine with high winds                                uint8\n",
       "Weather_Conditions_Fine without high winds                             uint8\n",
       "Weather_Conditions_Fog or mist                                         uint8\n",
       "Weather_Conditions_Other                                               uint8\n",
       "Weather_Conditions_Raining with high winds                             uint8\n",
       "Weather_Conditions_Raining without high winds                          uint8\n",
       "Weather_Conditions_Snowing with high winds                             uint8\n",
       "Weather_Conditions_Snowing without high winds                          uint8\n",
       "Weather_Conditions_Unknown                                             uint8\n",
       "Light_Conditions_Darkeness: No street lighting                         uint8\n",
       "Light_Conditions_Darkness: Street lighting unknown                     uint8\n",
       "Light_Conditions_Darkness: Street lights present and lit               uint8\n",
       "Light_Conditions_Darkness: Street lights present but unlit             uint8\n",
       "Light_Conditions_Daylight: Street light present                        uint8\n",
       "Road_Surface_Conditions_Dry                                            uint8\n",
       "Road_Surface_Conditions_Flood (Over 3cm of water)                      uint8\n",
       "Road_Surface_Conditions_Frost/Ice                                      uint8\n",
       "Road_Surface_Conditions_Snow                                           uint8\n",
       "Road_Surface_Conditions_Wet/Damp                                       uint8\n",
       "dtype: object"
      ]
     },
     "execution_count": 30,
     "metadata": {},
     "output_type": "execute_result"
    }
   ],
   "source": [
    "df.dtypes"
   ]
  },
  {
   "cell_type": "code",
   "execution_count": 31,
   "id": "671c968c",
   "metadata": {
    "execution": {
     "iopub.execute_input": "2022-11-27T13:50:47.114047Z",
     "iopub.status.busy": "2022-11-27T13:50:47.113629Z",
     "iopub.status.idle": "2022-11-27T13:50:47.425449Z",
     "shell.execute_reply": "2022-11-27T13:50:47.424025Z"
    },
    "papermill": {
     "duration": 0.333251,
     "end_time": "2022-11-27T13:50:47.428251",
     "exception": false,
     "start_time": "2022-11-27T13:50:47.095000",
     "status": "completed"
    },
    "tags": []
   },
   "outputs": [],
   "source": [
    "df.Speed_limit = df.Speed_limit.astype(int)"
   ]
  },
  {
   "cell_type": "code",
   "execution_count": 32,
   "id": "224f50f2",
   "metadata": {
    "execution": {
     "iopub.execute_input": "2022-11-27T13:50:47.465458Z",
     "iopub.status.busy": "2022-11-27T13:50:47.464987Z",
     "iopub.status.idle": "2022-11-27T13:50:49.688888Z",
     "shell.execute_reply": "2022-11-27T13:50:49.687739Z"
    },
    "papermill": {
     "duration": 2.245838,
     "end_time": "2022-11-27T13:50:49.691577",
     "exception": false,
     "start_time": "2022-11-27T13:50:47.445739",
     "status": "completed"
    },
    "tags": []
   },
   "outputs": [],
   "source": [
    "yarali_sayisi = df[\"Number_of_Casualties\"].values\n",
    "kategori = []\n",
    "for num in yarali_sayisi:\n",
    "    if num == 1:\n",
    "        kategori.append(\"1 yarali\")\n",
    "    elif num > 1 and num < 3 :\n",
    "        kategori.append(\"1 ile 3 arasi\")\n",
    "    elif num > 3 and num < 6 :\n",
    "        kategori.append(\"3 ile 6 arasi\")\n",
    "    elif num > 6 and num < 9 :\n",
    "        kategori.append(\"6 ile 9 arasi\")\n",
    "    elif num > 9 and num < 12 :\n",
    "        kategori.append(\"9 ile 12 arasi\")\n",
    "    else:\n",
    "        kategori.append(\"12'den cok\")\n",
    "kategori = pd.DataFrame(data=kategori, columns=[\"Kategori\"])\n",
    "df = df.reset_index(drop=True)\n",
    "data = pd.concat([df, kategori], axis=1)\n",
    "data.drop(columns=\"Number_of_Casualties\", axis=1, inplace=True)"
   ]
  },
  {
   "cell_type": "code",
   "execution_count": 33,
   "id": "2df0eb7e",
   "metadata": {
    "execution": {
     "iopub.execute_input": "2022-11-27T13:50:49.729040Z",
     "iopub.status.busy": "2022-11-27T13:50:49.728602Z",
     "iopub.status.idle": "2022-11-27T13:50:49.754888Z",
     "shell.execute_reply": "2022-11-27T13:50:49.753879Z"
    },
    "papermill": {
     "duration": 0.047815,
     "end_time": "2022-11-27T13:50:49.757347",
     "exception": false,
     "start_time": "2022-11-27T13:50:49.709532",
     "status": "completed"
    },
    "tags": []
   },
   "outputs": [
    {
     "data": {
      "text/html": [
       "<div>\n",
       "<style scoped>\n",
       "    .dataframe tbody tr th:only-of-type {\n",
       "        vertical-align: middle;\n",
       "    }\n",
       "\n",
       "    .dataframe tbody tr th {\n",
       "        vertical-align: top;\n",
       "    }\n",
       "\n",
       "    .dataframe thead th {\n",
       "        text-align: right;\n",
       "    }\n",
       "</style>\n",
       "<table border=\"1\" class=\"dataframe\">\n",
       "  <thead>\n",
       "    <tr style=\"text-align: right;\">\n",
       "      <th></th>\n",
       "      <th>Accident_Severity</th>\n",
       "      <th>Day_of_Week</th>\n",
       "      <th>Date</th>\n",
       "      <th>Time</th>\n",
       "      <th>Local_Authority_(District)</th>\n",
       "      <th>Local_Authority_(Highway)</th>\n",
       "      <th>Speed_limit</th>\n",
       "      <th>Year</th>\n",
       "      <th>Hour</th>\n",
       "      <th>Month</th>\n",
       "      <th>...</th>\n",
       "      <th>Light_Conditions_Darkness: Street lighting unknown</th>\n",
       "      <th>Light_Conditions_Darkness: Street lights present and lit</th>\n",
       "      <th>Light_Conditions_Darkness: Street lights present but unlit</th>\n",
       "      <th>Light_Conditions_Daylight: Street light present</th>\n",
       "      <th>Road_Surface_Conditions_Dry</th>\n",
       "      <th>Road_Surface_Conditions_Flood (Over 3cm of water)</th>\n",
       "      <th>Road_Surface_Conditions_Frost/Ice</th>\n",
       "      <th>Road_Surface_Conditions_Snow</th>\n",
       "      <th>Road_Surface_Conditions_Wet/Damp</th>\n",
       "      <th>Kategori</th>\n",
       "    </tr>\n",
       "  </thead>\n",
       "  <tbody>\n",
       "    <tr>\n",
       "      <th>0</th>\n",
       "      <td>2</td>\n",
       "      <td>3</td>\n",
       "      <td>04/01/2005</td>\n",
       "      <td>1900-01-01 17:42:00</td>\n",
       "      <td>12</td>\n",
       "      <td>E09000020</td>\n",
       "      <td>30</td>\n",
       "      <td>2005</td>\n",
       "      <td>17</td>\n",
       "      <td>4</td>\n",
       "      <td>...</td>\n",
       "      <td>0</td>\n",
       "      <td>0</td>\n",
       "      <td>0</td>\n",
       "      <td>1</td>\n",
       "      <td>0</td>\n",
       "      <td>0</td>\n",
       "      <td>0</td>\n",
       "      <td>0</td>\n",
       "      <td>1</td>\n",
       "      <td>1 yarali</td>\n",
       "    </tr>\n",
       "    <tr>\n",
       "      <th>1</th>\n",
       "      <td>3</td>\n",
       "      <td>4</td>\n",
       "      <td>05/01/2005</td>\n",
       "      <td>1900-01-01 17:36:00</td>\n",
       "      <td>12</td>\n",
       "      <td>E09000020</td>\n",
       "      <td>30</td>\n",
       "      <td>2005</td>\n",
       "      <td>17</td>\n",
       "      <td>5</td>\n",
       "      <td>...</td>\n",
       "      <td>0</td>\n",
       "      <td>1</td>\n",
       "      <td>0</td>\n",
       "      <td>0</td>\n",
       "      <td>1</td>\n",
       "      <td>0</td>\n",
       "      <td>0</td>\n",
       "      <td>0</td>\n",
       "      <td>0</td>\n",
       "      <td>1 yarali</td>\n",
       "    </tr>\n",
       "    <tr>\n",
       "      <th>2</th>\n",
       "      <td>3</td>\n",
       "      <td>5</td>\n",
       "      <td>06/01/2005</td>\n",
       "      <td>1900-01-01 00:15:00</td>\n",
       "      <td>12</td>\n",
       "      <td>E09000020</td>\n",
       "      <td>30</td>\n",
       "      <td>2005</td>\n",
       "      <td>0</td>\n",
       "      <td>6</td>\n",
       "      <td>...</td>\n",
       "      <td>0</td>\n",
       "      <td>1</td>\n",
       "      <td>0</td>\n",
       "      <td>0</td>\n",
       "      <td>1</td>\n",
       "      <td>0</td>\n",
       "      <td>0</td>\n",
       "      <td>0</td>\n",
       "      <td>0</td>\n",
       "      <td>1 yarali</td>\n",
       "    </tr>\n",
       "    <tr>\n",
       "      <th>3</th>\n",
       "      <td>3</td>\n",
       "      <td>6</td>\n",
       "      <td>07/01/2005</td>\n",
       "      <td>1900-01-01 10:35:00</td>\n",
       "      <td>12</td>\n",
       "      <td>E09000020</td>\n",
       "      <td>30</td>\n",
       "      <td>2005</td>\n",
       "      <td>10</td>\n",
       "      <td>7</td>\n",
       "      <td>...</td>\n",
       "      <td>0</td>\n",
       "      <td>0</td>\n",
       "      <td>0</td>\n",
       "      <td>1</td>\n",
       "      <td>1</td>\n",
       "      <td>0</td>\n",
       "      <td>0</td>\n",
       "      <td>0</td>\n",
       "      <td>0</td>\n",
       "      <td>1 yarali</td>\n",
       "    </tr>\n",
       "    <tr>\n",
       "      <th>4</th>\n",
       "      <td>3</td>\n",
       "      <td>2</td>\n",
       "      <td>10/01/2005</td>\n",
       "      <td>1900-01-01 21:13:00</td>\n",
       "      <td>12</td>\n",
       "      <td>E09000020</td>\n",
       "      <td>30</td>\n",
       "      <td>2005</td>\n",
       "      <td>21</td>\n",
       "      <td>10</td>\n",
       "      <td>...</td>\n",
       "      <td>1</td>\n",
       "      <td>0</td>\n",
       "      <td>0</td>\n",
       "      <td>0</td>\n",
       "      <td>0</td>\n",
       "      <td>0</td>\n",
       "      <td>0</td>\n",
       "      <td>0</td>\n",
       "      <td>1</td>\n",
       "      <td>1 yarali</td>\n",
       "    </tr>\n",
       "    <tr>\n",
       "      <th>5</th>\n",
       "      <td>3</td>\n",
       "      <td>3</td>\n",
       "      <td>11/01/2005</td>\n",
       "      <td>1900-01-01 12:40:00</td>\n",
       "      <td>12</td>\n",
       "      <td>E09000020</td>\n",
       "      <td>30</td>\n",
       "      <td>2005</td>\n",
       "      <td>12</td>\n",
       "      <td>11</td>\n",
       "      <td>...</td>\n",
       "      <td>0</td>\n",
       "      <td>0</td>\n",
       "      <td>0</td>\n",
       "      <td>1</td>\n",
       "      <td>0</td>\n",
       "      <td>0</td>\n",
       "      <td>0</td>\n",
       "      <td>0</td>\n",
       "      <td>1</td>\n",
       "      <td>1 yarali</td>\n",
       "    </tr>\n",
       "    <tr>\n",
       "      <th>6</th>\n",
       "      <td>3</td>\n",
       "      <td>5</td>\n",
       "      <td>13/01/2005</td>\n",
       "      <td>1900-01-01 20:40:00</td>\n",
       "      <td>12</td>\n",
       "      <td>E09000020</td>\n",
       "      <td>30</td>\n",
       "      <td>2005</td>\n",
       "      <td>20</td>\n",
       "      <td>1</td>\n",
       "      <td>...</td>\n",
       "      <td>0</td>\n",
       "      <td>1</td>\n",
       "      <td>0</td>\n",
       "      <td>0</td>\n",
       "      <td>1</td>\n",
       "      <td>0</td>\n",
       "      <td>0</td>\n",
       "      <td>0</td>\n",
       "      <td>0</td>\n",
       "      <td>1 yarali</td>\n",
       "    </tr>\n",
       "    <tr>\n",
       "      <th>7</th>\n",
       "      <td>3</td>\n",
       "      <td>6</td>\n",
       "      <td>14/01/2005</td>\n",
       "      <td>1900-01-01 17:35:00</td>\n",
       "      <td>12</td>\n",
       "      <td>E09000020</td>\n",
       "      <td>30</td>\n",
       "      <td>2005</td>\n",
       "      <td>17</td>\n",
       "      <td>1</td>\n",
       "      <td>...</td>\n",
       "      <td>0</td>\n",
       "      <td>0</td>\n",
       "      <td>0</td>\n",
       "      <td>1</td>\n",
       "      <td>1</td>\n",
       "      <td>0</td>\n",
       "      <td>0</td>\n",
       "      <td>0</td>\n",
       "      <td>0</td>\n",
       "      <td>1 ile 3 arasi</td>\n",
       "    </tr>\n",
       "    <tr>\n",
       "      <th>8</th>\n",
       "      <td>3</td>\n",
       "      <td>7</td>\n",
       "      <td>15/01/2005</td>\n",
       "      <td>1900-01-01 22:43:00</td>\n",
       "      <td>12</td>\n",
       "      <td>E09000020</td>\n",
       "      <td>30</td>\n",
       "      <td>2005</td>\n",
       "      <td>22</td>\n",
       "      <td>1</td>\n",
       "      <td>...</td>\n",
       "      <td>0</td>\n",
       "      <td>1</td>\n",
       "      <td>0</td>\n",
       "      <td>0</td>\n",
       "      <td>1</td>\n",
       "      <td>0</td>\n",
       "      <td>0</td>\n",
       "      <td>0</td>\n",
       "      <td>0</td>\n",
       "      <td>1 ile 3 arasi</td>\n",
       "    </tr>\n",
       "    <tr>\n",
       "      <th>9</th>\n",
       "      <td>3</td>\n",
       "      <td>7</td>\n",
       "      <td>15/01/2005</td>\n",
       "      <td>1900-01-01 16:00:00</td>\n",
       "      <td>12</td>\n",
       "      <td>E09000020</td>\n",
       "      <td>30</td>\n",
       "      <td>2005</td>\n",
       "      <td>16</td>\n",
       "      <td>1</td>\n",
       "      <td>...</td>\n",
       "      <td>0</td>\n",
       "      <td>0</td>\n",
       "      <td>0</td>\n",
       "      <td>1</td>\n",
       "      <td>1</td>\n",
       "      <td>0</td>\n",
       "      <td>0</td>\n",
       "      <td>0</td>\n",
       "      <td>0</td>\n",
       "      <td>3 ile 6 arasi</td>\n",
       "    </tr>\n",
       "  </tbody>\n",
       "</table>\n",
       "<p>10 rows × 36 columns</p>\n",
       "</div>"
      ],
      "text/plain": [
       "   Accident_Severity  Day_of_Week        Date                Time  \\\n",
       "0                  2            3  04/01/2005 1900-01-01 17:42:00   \n",
       "1                  3            4  05/01/2005 1900-01-01 17:36:00   \n",
       "2                  3            5  06/01/2005 1900-01-01 00:15:00   \n",
       "3                  3            6  07/01/2005 1900-01-01 10:35:00   \n",
       "4                  3            2  10/01/2005 1900-01-01 21:13:00   \n",
       "5                  3            3  11/01/2005 1900-01-01 12:40:00   \n",
       "6                  3            5  13/01/2005 1900-01-01 20:40:00   \n",
       "7                  3            6  14/01/2005 1900-01-01 17:35:00   \n",
       "8                  3            7  15/01/2005 1900-01-01 22:43:00   \n",
       "9                  3            7  15/01/2005 1900-01-01 16:00:00   \n",
       "\n",
       "   Local_Authority_(District) Local_Authority_(Highway)  Speed_limit  Year  \\\n",
       "0                          12                 E09000020           30  2005   \n",
       "1                          12                 E09000020           30  2005   \n",
       "2                          12                 E09000020           30  2005   \n",
       "3                          12                 E09000020           30  2005   \n",
       "4                          12                 E09000020           30  2005   \n",
       "5                          12                 E09000020           30  2005   \n",
       "6                          12                 E09000020           30  2005   \n",
       "7                          12                 E09000020           30  2005   \n",
       "8                          12                 E09000020           30  2005   \n",
       "9                          12                 E09000020           30  2005   \n",
       "\n",
       "  Hour Month  ...  Light_Conditions_Darkness: Street lighting unknown  \\\n",
       "0   17     4  ...                                                  0    \n",
       "1   17     5  ...                                                  0    \n",
       "2    0     6  ...                                                  0    \n",
       "3   10     7  ...                                                  0    \n",
       "4   21    10  ...                                                  1    \n",
       "5   12    11  ...                                                  0    \n",
       "6   20     1  ...                                                  0    \n",
       "7   17     1  ...                                                  0    \n",
       "8   22     1  ...                                                  0    \n",
       "9   16     1  ...                                                  0    \n",
       "\n",
       "   Light_Conditions_Darkness: Street lights present and lit  \\\n",
       "0                                                  0          \n",
       "1                                                  1          \n",
       "2                                                  1          \n",
       "3                                                  0          \n",
       "4                                                  0          \n",
       "5                                                  0          \n",
       "6                                                  1          \n",
       "7                                                  0          \n",
       "8                                                  1          \n",
       "9                                                  0          \n",
       "\n",
       "   Light_Conditions_Darkness: Street lights present but unlit  \\\n",
       "0                                                  0            \n",
       "1                                                  0            \n",
       "2                                                  0            \n",
       "3                                                  0            \n",
       "4                                                  0            \n",
       "5                                                  0            \n",
       "6                                                  0            \n",
       "7                                                  0            \n",
       "8                                                  0            \n",
       "9                                                  0            \n",
       "\n",
       "   Light_Conditions_Daylight: Street light present  \\\n",
       "0                                                1   \n",
       "1                                                0   \n",
       "2                                                0   \n",
       "3                                                1   \n",
       "4                                                0   \n",
       "5                                                1   \n",
       "6                                                0   \n",
       "7                                                1   \n",
       "8                                                0   \n",
       "9                                                1   \n",
       "\n",
       "   Road_Surface_Conditions_Dry  \\\n",
       "0                            0   \n",
       "1                            1   \n",
       "2                            1   \n",
       "3                            1   \n",
       "4                            0   \n",
       "5                            0   \n",
       "6                            1   \n",
       "7                            1   \n",
       "8                            1   \n",
       "9                            1   \n",
       "\n",
       "   Road_Surface_Conditions_Flood (Over 3cm of water)  \\\n",
       "0                                                  0   \n",
       "1                                                  0   \n",
       "2                                                  0   \n",
       "3                                                  0   \n",
       "4                                                  0   \n",
       "5                                                  0   \n",
       "6                                                  0   \n",
       "7                                                  0   \n",
       "8                                                  0   \n",
       "9                                                  0   \n",
       "\n",
       "   Road_Surface_Conditions_Frost/Ice  Road_Surface_Conditions_Snow  \\\n",
       "0                                  0                             0   \n",
       "1                                  0                             0   \n",
       "2                                  0                             0   \n",
       "3                                  0                             0   \n",
       "4                                  0                             0   \n",
       "5                                  0                             0   \n",
       "6                                  0                             0   \n",
       "7                                  0                             0   \n",
       "8                                  0                             0   \n",
       "9                                  0                             0   \n",
       "\n",
       "   Road_Surface_Conditions_Wet/Damp       Kategori  \n",
       "0                                 1       1 yarali  \n",
       "1                                 0       1 yarali  \n",
       "2                                 0       1 yarali  \n",
       "3                                 0       1 yarali  \n",
       "4                                 1       1 yarali  \n",
       "5                                 1       1 yarali  \n",
       "6                                 0       1 yarali  \n",
       "7                                 0  1 ile 3 arasi  \n",
       "8                                 0  1 ile 3 arasi  \n",
       "9                                 0  3 ile 6 arasi  \n",
       "\n",
       "[10 rows x 36 columns]"
      ]
     },
     "execution_count": 33,
     "metadata": {},
     "output_type": "execute_result"
    }
   ],
   "source": [
    "data.head(10)\n"
   ]
  },
  {
   "cell_type": "code",
   "execution_count": 34,
   "id": "d49db4a4",
   "metadata": {
    "execution": {
     "iopub.execute_input": "2022-11-27T13:50:49.795888Z",
     "iopub.status.busy": "2022-11-27T13:50:49.795164Z",
     "iopub.status.idle": "2022-11-27T13:50:49.915293Z",
     "shell.execute_reply": "2022-11-27T13:50:49.914395Z"
    },
    "papermill": {
     "duration": 0.142045,
     "end_time": "2022-11-27T13:50:49.917820",
     "exception": false,
     "start_time": "2022-11-27T13:50:49.775775",
     "status": "completed"
    },
    "tags": []
   },
   "outputs": [
    {
     "data": {
      "text/plain": [
       "array(['1 yarali', '1 ile 3 arasi', '3 ile 6 arasi', \"12'den cok\",\n",
       "       '6 ile 9 arasi', '9 ile 12 arasi'], dtype=object)"
      ]
     },
     "execution_count": 34,
     "metadata": {},
     "output_type": "execute_result"
    }
   ],
   "source": [
    "data['Kategori'].unique()"
   ]
  },
  {
   "cell_type": "code",
   "execution_count": 35,
   "id": "0e8d0f87",
   "metadata": {
    "execution": {
     "iopub.execute_input": "2022-11-27T13:50:49.956256Z",
     "iopub.status.busy": "2022-11-27T13:50:49.955475Z",
     "iopub.status.idle": "2022-11-27T13:50:49.964788Z",
     "shell.execute_reply": "2022-11-27T13:50:49.963688Z"
    },
    "papermill": {
     "duration": 0.031313,
     "end_time": "2022-11-27T13:50:49.967165",
     "exception": false,
     "start_time": "2022-11-27T13:50:49.935852",
     "status": "completed"
    },
    "tags": []
   },
   "outputs": [
    {
     "data": {
      "text/plain": [
       "Accident_Severity                                                      int64\n",
       "Day_of_Week                                                            int64\n",
       "Date                                                                  object\n",
       "Time                                                          datetime64[ns]\n",
       "Local_Authority_(District)                                             int64\n",
       "Local_Authority_(Highway)                                             object\n",
       "Speed_limit                                                            int64\n",
       "Year                                                                  object\n",
       "Hour                                                                  object\n",
       "Month                                                                 object\n",
       "Road_Type_Dual carriageway                                             uint8\n",
       "Road_Type_One way street                                               uint8\n",
       "Road_Type_Roundabout                                                   uint8\n",
       "Road_Type_Single carriageway                                           uint8\n",
       "Road_Type_Slip road                                                    uint8\n",
       "Road_Type_Unknown                                                      uint8\n",
       "Weather_Conditions_Fine with high winds                                uint8\n",
       "Weather_Conditions_Fine without high winds                             uint8\n",
       "Weather_Conditions_Fog or mist                                         uint8\n",
       "Weather_Conditions_Other                                               uint8\n",
       "Weather_Conditions_Raining with high winds                             uint8\n",
       "Weather_Conditions_Raining without high winds                          uint8\n",
       "Weather_Conditions_Snowing with high winds                             uint8\n",
       "Weather_Conditions_Snowing without high winds                          uint8\n",
       "Weather_Conditions_Unknown                                             uint8\n",
       "Light_Conditions_Darkeness: No street lighting                         uint8\n",
       "Light_Conditions_Darkness: Street lighting unknown                     uint8\n",
       "Light_Conditions_Darkness: Street lights present and lit               uint8\n",
       "Light_Conditions_Darkness: Street lights present but unlit             uint8\n",
       "Light_Conditions_Daylight: Street light present                        uint8\n",
       "Road_Surface_Conditions_Dry                                            uint8\n",
       "Road_Surface_Conditions_Flood (Over 3cm of water)                      uint8\n",
       "Road_Surface_Conditions_Frost/Ice                                      uint8\n",
       "Road_Surface_Conditions_Snow                                           uint8\n",
       "Road_Surface_Conditions_Wet/Damp                                       uint8\n",
       "Kategori                                                              object\n",
       "dtype: object"
      ]
     },
     "execution_count": 35,
     "metadata": {},
     "output_type": "execute_result"
    }
   ],
   "source": [
    "data.dtypes\n"
   ]
  },
  {
   "cell_type": "code",
   "execution_count": 36,
   "id": "9b6c542c",
   "metadata": {
    "execution": {
     "iopub.execute_input": "2022-11-27T13:50:50.005531Z",
     "iopub.status.busy": "2022-11-27T13:50:50.004743Z",
     "iopub.status.idle": "2022-11-27T13:50:50.122592Z",
     "shell.execute_reply": "2022-11-27T13:50:50.121297Z"
    },
    "papermill": {
     "duration": 0.140285,
     "end_time": "2022-11-27T13:50:50.125353",
     "exception": false,
     "start_time": "2022-11-27T13:50:49.985068",
     "status": "completed"
    },
    "tags": []
   },
   "outputs": [],
   "source": [
    "data.drop(columns=[\"Month\",\"Year\",\"Local_Authority_(Highway)\",\"Local_Authority_(District)\",\"Time\",\"Date\"], axis=1, inplace=True)"
   ]
  },
  {
   "cell_type": "code",
   "execution_count": 37,
   "id": "83bb87dc",
   "metadata": {
    "execution": {
     "iopub.execute_input": "2022-11-27T13:50:50.163892Z",
     "iopub.status.busy": "2022-11-27T13:50:50.162798Z",
     "iopub.status.idle": "2022-11-27T13:50:50.186811Z",
     "shell.execute_reply": "2022-11-27T13:50:50.185964Z"
    },
    "papermill": {
     "duration": 0.045654,
     "end_time": "2022-11-27T13:50:50.189114",
     "exception": false,
     "start_time": "2022-11-27T13:50:50.143460",
     "status": "completed"
    },
    "tags": []
   },
   "outputs": [
    {
     "data": {
      "text/html": [
       "<div>\n",
       "<style scoped>\n",
       "    .dataframe tbody tr th:only-of-type {\n",
       "        vertical-align: middle;\n",
       "    }\n",
       "\n",
       "    .dataframe tbody tr th {\n",
       "        vertical-align: top;\n",
       "    }\n",
       "\n",
       "    .dataframe thead th {\n",
       "        text-align: right;\n",
       "    }\n",
       "</style>\n",
       "<table border=\"1\" class=\"dataframe\">\n",
       "  <thead>\n",
       "    <tr style=\"text-align: right;\">\n",
       "      <th></th>\n",
       "      <th>Accident_Severity</th>\n",
       "      <th>Day_of_Week</th>\n",
       "      <th>Speed_limit</th>\n",
       "      <th>Hour</th>\n",
       "      <th>Road_Type_Dual carriageway</th>\n",
       "      <th>Road_Type_One way street</th>\n",
       "      <th>Road_Type_Roundabout</th>\n",
       "      <th>Road_Type_Single carriageway</th>\n",
       "      <th>Road_Type_Slip road</th>\n",
       "      <th>Road_Type_Unknown</th>\n",
       "      <th>...</th>\n",
       "      <th>Light_Conditions_Darkness: Street lighting unknown</th>\n",
       "      <th>Light_Conditions_Darkness: Street lights present and lit</th>\n",
       "      <th>Light_Conditions_Darkness: Street lights present but unlit</th>\n",
       "      <th>Light_Conditions_Daylight: Street light present</th>\n",
       "      <th>Road_Surface_Conditions_Dry</th>\n",
       "      <th>Road_Surface_Conditions_Flood (Over 3cm of water)</th>\n",
       "      <th>Road_Surface_Conditions_Frost/Ice</th>\n",
       "      <th>Road_Surface_Conditions_Snow</th>\n",
       "      <th>Road_Surface_Conditions_Wet/Damp</th>\n",
       "      <th>Kategori</th>\n",
       "    </tr>\n",
       "  </thead>\n",
       "  <tbody>\n",
       "    <tr>\n",
       "      <th>0</th>\n",
       "      <td>2</td>\n",
       "      <td>3</td>\n",
       "      <td>30</td>\n",
       "      <td>17</td>\n",
       "      <td>0</td>\n",
       "      <td>0</td>\n",
       "      <td>0</td>\n",
       "      <td>1</td>\n",
       "      <td>0</td>\n",
       "      <td>0</td>\n",
       "      <td>...</td>\n",
       "      <td>0</td>\n",
       "      <td>0</td>\n",
       "      <td>0</td>\n",
       "      <td>1</td>\n",
       "      <td>0</td>\n",
       "      <td>0</td>\n",
       "      <td>0</td>\n",
       "      <td>0</td>\n",
       "      <td>1</td>\n",
       "      <td>1 yarali</td>\n",
       "    </tr>\n",
       "    <tr>\n",
       "      <th>1</th>\n",
       "      <td>3</td>\n",
       "      <td>4</td>\n",
       "      <td>30</td>\n",
       "      <td>17</td>\n",
       "      <td>1</td>\n",
       "      <td>0</td>\n",
       "      <td>0</td>\n",
       "      <td>0</td>\n",
       "      <td>0</td>\n",
       "      <td>0</td>\n",
       "      <td>...</td>\n",
       "      <td>0</td>\n",
       "      <td>1</td>\n",
       "      <td>0</td>\n",
       "      <td>0</td>\n",
       "      <td>1</td>\n",
       "      <td>0</td>\n",
       "      <td>0</td>\n",
       "      <td>0</td>\n",
       "      <td>0</td>\n",
       "      <td>1 yarali</td>\n",
       "    </tr>\n",
       "    <tr>\n",
       "      <th>2</th>\n",
       "      <td>3</td>\n",
       "      <td>5</td>\n",
       "      <td>30</td>\n",
       "      <td>0</td>\n",
       "      <td>0</td>\n",
       "      <td>0</td>\n",
       "      <td>0</td>\n",
       "      <td>1</td>\n",
       "      <td>0</td>\n",
       "      <td>0</td>\n",
       "      <td>...</td>\n",
       "      <td>0</td>\n",
       "      <td>1</td>\n",
       "      <td>0</td>\n",
       "      <td>0</td>\n",
       "      <td>1</td>\n",
       "      <td>0</td>\n",
       "      <td>0</td>\n",
       "      <td>0</td>\n",
       "      <td>0</td>\n",
       "      <td>1 yarali</td>\n",
       "    </tr>\n",
       "    <tr>\n",
       "      <th>3</th>\n",
       "      <td>3</td>\n",
       "      <td>6</td>\n",
       "      <td>30</td>\n",
       "      <td>10</td>\n",
       "      <td>0</td>\n",
       "      <td>0</td>\n",
       "      <td>0</td>\n",
       "      <td>1</td>\n",
       "      <td>0</td>\n",
       "      <td>0</td>\n",
       "      <td>...</td>\n",
       "      <td>0</td>\n",
       "      <td>0</td>\n",
       "      <td>0</td>\n",
       "      <td>1</td>\n",
       "      <td>1</td>\n",
       "      <td>0</td>\n",
       "      <td>0</td>\n",
       "      <td>0</td>\n",
       "      <td>0</td>\n",
       "      <td>1 yarali</td>\n",
       "    </tr>\n",
       "    <tr>\n",
       "      <th>4</th>\n",
       "      <td>3</td>\n",
       "      <td>2</td>\n",
       "      <td>30</td>\n",
       "      <td>21</td>\n",
       "      <td>0</td>\n",
       "      <td>0</td>\n",
       "      <td>0</td>\n",
       "      <td>1</td>\n",
       "      <td>0</td>\n",
       "      <td>0</td>\n",
       "      <td>...</td>\n",
       "      <td>1</td>\n",
       "      <td>0</td>\n",
       "      <td>0</td>\n",
       "      <td>0</td>\n",
       "      <td>0</td>\n",
       "      <td>0</td>\n",
       "      <td>0</td>\n",
       "      <td>0</td>\n",
       "      <td>1</td>\n",
       "      <td>1 yarali</td>\n",
       "    </tr>\n",
       "    <tr>\n",
       "      <th>5</th>\n",
       "      <td>3</td>\n",
       "      <td>3</td>\n",
       "      <td>30</td>\n",
       "      <td>12</td>\n",
       "      <td>0</td>\n",
       "      <td>0</td>\n",
       "      <td>0</td>\n",
       "      <td>1</td>\n",
       "      <td>0</td>\n",
       "      <td>0</td>\n",
       "      <td>...</td>\n",
       "      <td>0</td>\n",
       "      <td>0</td>\n",
       "      <td>0</td>\n",
       "      <td>1</td>\n",
       "      <td>0</td>\n",
       "      <td>0</td>\n",
       "      <td>0</td>\n",
       "      <td>0</td>\n",
       "      <td>1</td>\n",
       "      <td>1 yarali</td>\n",
       "    </tr>\n",
       "    <tr>\n",
       "      <th>6</th>\n",
       "      <td>3</td>\n",
       "      <td>5</td>\n",
       "      <td>30</td>\n",
       "      <td>20</td>\n",
       "      <td>0</td>\n",
       "      <td>0</td>\n",
       "      <td>0</td>\n",
       "      <td>1</td>\n",
       "      <td>0</td>\n",
       "      <td>0</td>\n",
       "      <td>...</td>\n",
       "      <td>0</td>\n",
       "      <td>1</td>\n",
       "      <td>0</td>\n",
       "      <td>0</td>\n",
       "      <td>1</td>\n",
       "      <td>0</td>\n",
       "      <td>0</td>\n",
       "      <td>0</td>\n",
       "      <td>0</td>\n",
       "      <td>1 yarali</td>\n",
       "    </tr>\n",
       "    <tr>\n",
       "      <th>7</th>\n",
       "      <td>3</td>\n",
       "      <td>6</td>\n",
       "      <td>30</td>\n",
       "      <td>17</td>\n",
       "      <td>1</td>\n",
       "      <td>0</td>\n",
       "      <td>0</td>\n",
       "      <td>0</td>\n",
       "      <td>0</td>\n",
       "      <td>0</td>\n",
       "      <td>...</td>\n",
       "      <td>0</td>\n",
       "      <td>0</td>\n",
       "      <td>0</td>\n",
       "      <td>1</td>\n",
       "      <td>1</td>\n",
       "      <td>0</td>\n",
       "      <td>0</td>\n",
       "      <td>0</td>\n",
       "      <td>0</td>\n",
       "      <td>1 ile 3 arasi</td>\n",
       "    </tr>\n",
       "    <tr>\n",
       "      <th>8</th>\n",
       "      <td>3</td>\n",
       "      <td>7</td>\n",
       "      <td>30</td>\n",
       "      <td>22</td>\n",
       "      <td>0</td>\n",
       "      <td>0</td>\n",
       "      <td>0</td>\n",
       "      <td>1</td>\n",
       "      <td>0</td>\n",
       "      <td>0</td>\n",
       "      <td>...</td>\n",
       "      <td>0</td>\n",
       "      <td>1</td>\n",
       "      <td>0</td>\n",
       "      <td>0</td>\n",
       "      <td>1</td>\n",
       "      <td>0</td>\n",
       "      <td>0</td>\n",
       "      <td>0</td>\n",
       "      <td>0</td>\n",
       "      <td>1 ile 3 arasi</td>\n",
       "    </tr>\n",
       "    <tr>\n",
       "      <th>9</th>\n",
       "      <td>3</td>\n",
       "      <td>7</td>\n",
       "      <td>30</td>\n",
       "      <td>16</td>\n",
       "      <td>0</td>\n",
       "      <td>0</td>\n",
       "      <td>0</td>\n",
       "      <td>1</td>\n",
       "      <td>0</td>\n",
       "      <td>0</td>\n",
       "      <td>...</td>\n",
       "      <td>0</td>\n",
       "      <td>0</td>\n",
       "      <td>0</td>\n",
       "      <td>1</td>\n",
       "      <td>1</td>\n",
       "      <td>0</td>\n",
       "      <td>0</td>\n",
       "      <td>0</td>\n",
       "      <td>0</td>\n",
       "      <td>3 ile 6 arasi</td>\n",
       "    </tr>\n",
       "  </tbody>\n",
       "</table>\n",
       "<p>10 rows × 30 columns</p>\n",
       "</div>"
      ],
      "text/plain": [
       "   Accident_Severity  Day_of_Week  Speed_limit Hour  \\\n",
       "0                  2            3           30   17   \n",
       "1                  3            4           30   17   \n",
       "2                  3            5           30    0   \n",
       "3                  3            6           30   10   \n",
       "4                  3            2           30   21   \n",
       "5                  3            3           30   12   \n",
       "6                  3            5           30   20   \n",
       "7                  3            6           30   17   \n",
       "8                  3            7           30   22   \n",
       "9                  3            7           30   16   \n",
       "\n",
       "   Road_Type_Dual carriageway  Road_Type_One way street  Road_Type_Roundabout  \\\n",
       "0                           0                         0                     0   \n",
       "1                           1                         0                     0   \n",
       "2                           0                         0                     0   \n",
       "3                           0                         0                     0   \n",
       "4                           0                         0                     0   \n",
       "5                           0                         0                     0   \n",
       "6                           0                         0                     0   \n",
       "7                           1                         0                     0   \n",
       "8                           0                         0                     0   \n",
       "9                           0                         0                     0   \n",
       "\n",
       "   Road_Type_Single carriageway  Road_Type_Slip road  Road_Type_Unknown  ...  \\\n",
       "0                             1                    0                  0  ...   \n",
       "1                             0                    0                  0  ...   \n",
       "2                             1                    0                  0  ...   \n",
       "3                             1                    0                  0  ...   \n",
       "4                             1                    0                  0  ...   \n",
       "5                             1                    0                  0  ...   \n",
       "6                             1                    0                  0  ...   \n",
       "7                             0                    0                  0  ...   \n",
       "8                             1                    0                  0  ...   \n",
       "9                             1                    0                  0  ...   \n",
       "\n",
       "   Light_Conditions_Darkness: Street lighting unknown  \\\n",
       "0                                                  0    \n",
       "1                                                  0    \n",
       "2                                                  0    \n",
       "3                                                  0    \n",
       "4                                                  1    \n",
       "5                                                  0    \n",
       "6                                                  0    \n",
       "7                                                  0    \n",
       "8                                                  0    \n",
       "9                                                  0    \n",
       "\n",
       "   Light_Conditions_Darkness: Street lights present and lit  \\\n",
       "0                                                  0          \n",
       "1                                                  1          \n",
       "2                                                  1          \n",
       "3                                                  0          \n",
       "4                                                  0          \n",
       "5                                                  0          \n",
       "6                                                  1          \n",
       "7                                                  0          \n",
       "8                                                  1          \n",
       "9                                                  0          \n",
       "\n",
       "   Light_Conditions_Darkness: Street lights present but unlit  \\\n",
       "0                                                  0            \n",
       "1                                                  0            \n",
       "2                                                  0            \n",
       "3                                                  0            \n",
       "4                                                  0            \n",
       "5                                                  0            \n",
       "6                                                  0            \n",
       "7                                                  0            \n",
       "8                                                  0            \n",
       "9                                                  0            \n",
       "\n",
       "   Light_Conditions_Daylight: Street light present  \\\n",
       "0                                                1   \n",
       "1                                                0   \n",
       "2                                                0   \n",
       "3                                                1   \n",
       "4                                                0   \n",
       "5                                                1   \n",
       "6                                                0   \n",
       "7                                                1   \n",
       "8                                                0   \n",
       "9                                                1   \n",
       "\n",
       "   Road_Surface_Conditions_Dry  \\\n",
       "0                            0   \n",
       "1                            1   \n",
       "2                            1   \n",
       "3                            1   \n",
       "4                            0   \n",
       "5                            0   \n",
       "6                            1   \n",
       "7                            1   \n",
       "8                            1   \n",
       "9                            1   \n",
       "\n",
       "   Road_Surface_Conditions_Flood (Over 3cm of water)  \\\n",
       "0                                                  0   \n",
       "1                                                  0   \n",
       "2                                                  0   \n",
       "3                                                  0   \n",
       "4                                                  0   \n",
       "5                                                  0   \n",
       "6                                                  0   \n",
       "7                                                  0   \n",
       "8                                                  0   \n",
       "9                                                  0   \n",
       "\n",
       "   Road_Surface_Conditions_Frost/Ice  Road_Surface_Conditions_Snow  \\\n",
       "0                                  0                             0   \n",
       "1                                  0                             0   \n",
       "2                                  0                             0   \n",
       "3                                  0                             0   \n",
       "4                                  0                             0   \n",
       "5                                  0                             0   \n",
       "6                                  0                             0   \n",
       "7                                  0                             0   \n",
       "8                                  0                             0   \n",
       "9                                  0                             0   \n",
       "\n",
       "   Road_Surface_Conditions_Wet/Damp       Kategori  \n",
       "0                                 1       1 yarali  \n",
       "1                                 0       1 yarali  \n",
       "2                                 0       1 yarali  \n",
       "3                                 0       1 yarali  \n",
       "4                                 1       1 yarali  \n",
       "5                                 1       1 yarali  \n",
       "6                                 0       1 yarali  \n",
       "7                                 0  1 ile 3 arasi  \n",
       "8                                 0  1 ile 3 arasi  \n",
       "9                                 0  3 ile 6 arasi  \n",
       "\n",
       "[10 rows x 30 columns]"
      ]
     },
     "execution_count": 37,
     "metadata": {},
     "output_type": "execute_result"
    }
   ],
   "source": [
    "data.head(10)"
   ]
  },
  {
   "cell_type": "code",
   "execution_count": 38,
   "id": "7cb6efad",
   "metadata": {
    "execution": {
     "iopub.execute_input": "2022-11-27T13:50:50.230162Z",
     "iopub.status.busy": "2022-11-27T13:50:50.228957Z",
     "iopub.status.idle": "2022-11-27T13:50:50.235948Z",
     "shell.execute_reply": "2022-11-27T13:50:50.235068Z"
    },
    "papermill": {
     "duration": 0.029458,
     "end_time": "2022-11-27T13:50:50.238139",
     "exception": false,
     "start_time": "2022-11-27T13:50:50.208681",
     "status": "completed"
    },
    "tags": []
   },
   "outputs": [
    {
     "data": {
      "text/plain": [
       "Index(['Accident_Severity', 'Day_of_Week', 'Speed_limit', 'Hour',\n",
       "       'Road_Type_Dual carriageway', 'Road_Type_One way street',\n",
       "       'Road_Type_Roundabout', 'Road_Type_Single carriageway',\n",
       "       'Road_Type_Slip road', 'Road_Type_Unknown',\n",
       "       'Weather_Conditions_Fine with high winds',\n",
       "       'Weather_Conditions_Fine without high winds',\n",
       "       'Weather_Conditions_Fog or mist', 'Weather_Conditions_Other',\n",
       "       'Weather_Conditions_Raining with high winds',\n",
       "       'Weather_Conditions_Raining without high winds',\n",
       "       'Weather_Conditions_Snowing with high winds',\n",
       "       'Weather_Conditions_Snowing without high winds',\n",
       "       'Weather_Conditions_Unknown',\n",
       "       'Light_Conditions_Darkeness: No street lighting',\n",
       "       'Light_Conditions_Darkness: Street lighting unknown',\n",
       "       'Light_Conditions_Darkness: Street lights present and lit',\n",
       "       'Light_Conditions_Darkness: Street lights present but unlit',\n",
       "       'Light_Conditions_Daylight: Street light present',\n",
       "       'Road_Surface_Conditions_Dry',\n",
       "       'Road_Surface_Conditions_Flood (Over 3cm of water)',\n",
       "       'Road_Surface_Conditions_Frost/Ice', 'Road_Surface_Conditions_Snow',\n",
       "       'Road_Surface_Conditions_Wet/Damp', 'Kategori'],\n",
       "      dtype='object')"
      ]
     },
     "execution_count": 38,
     "metadata": {},
     "output_type": "execute_result"
    }
   ],
   "source": [
    "data.columns"
   ]
  },
  {
   "cell_type": "code",
   "execution_count": 39,
   "id": "856811db",
   "metadata": {
    "execution": {
     "iopub.execute_input": "2022-11-27T13:50:50.278761Z",
     "iopub.status.busy": "2022-11-27T13:50:50.277646Z",
     "iopub.status.idle": "2022-11-27T13:50:50.285119Z",
     "shell.execute_reply": "2022-11-27T13:50:50.283977Z"
    },
    "papermill": {
     "duration": 0.030138,
     "end_time": "2022-11-27T13:50:50.287489",
     "exception": false,
     "start_time": "2022-11-27T13:50:50.257351",
     "status": "completed"
    },
    "tags": []
   },
   "outputs": [
    {
     "data": {
      "text/plain": [
       "30"
      ]
     },
     "execution_count": 39,
     "metadata": {},
     "output_type": "execute_result"
    }
   ],
   "source": [
    "len(data.columns)"
   ]
  },
  {
   "cell_type": "code",
   "execution_count": 40,
   "id": "f6451970",
   "metadata": {
    "execution": {
     "iopub.execute_input": "2022-11-27T13:50:50.327870Z",
     "iopub.status.busy": "2022-11-27T13:50:50.326832Z",
     "iopub.status.idle": "2022-11-27T13:50:50.332337Z",
     "shell.execute_reply": "2022-11-27T13:50:50.331441Z"
    },
    "papermill": {
     "duration": 0.028289,
     "end_time": "2022-11-27T13:50:50.334719",
     "exception": false,
     "start_time": "2022-11-27T13:50:50.306430",
     "status": "completed"
    },
    "tags": []
   },
   "outputs": [],
   "source": [
    "a=data.columns[0:29]"
   ]
  },
  {
   "cell_type": "code",
   "execution_count": 41,
   "id": "56d0d41f",
   "metadata": {
    "execution": {
     "iopub.execute_input": "2022-11-27T13:50:50.374451Z",
     "iopub.status.busy": "2022-11-27T13:50:50.373686Z",
     "iopub.status.idle": "2022-11-27T13:50:50.381083Z",
     "shell.execute_reply": "2022-11-27T13:50:50.380185Z"
    },
    "papermill": {
     "duration": 0.02973,
     "end_time": "2022-11-27T13:50:50.383308",
     "exception": false,
     "start_time": "2022-11-27T13:50:50.353578",
     "status": "completed"
    },
    "tags": []
   },
   "outputs": [
    {
     "data": {
      "text/plain": [
       "Index(['Accident_Severity', 'Day_of_Week', 'Speed_limit', 'Hour',\n",
       "       'Road_Type_Dual carriageway', 'Road_Type_One way street',\n",
       "       'Road_Type_Roundabout', 'Road_Type_Single carriageway',\n",
       "       'Road_Type_Slip road', 'Road_Type_Unknown',\n",
       "       'Weather_Conditions_Fine with high winds',\n",
       "       'Weather_Conditions_Fine without high winds',\n",
       "       'Weather_Conditions_Fog or mist', 'Weather_Conditions_Other',\n",
       "       'Weather_Conditions_Raining with high winds',\n",
       "       'Weather_Conditions_Raining without high winds',\n",
       "       'Weather_Conditions_Snowing with high winds',\n",
       "       'Weather_Conditions_Snowing without high winds',\n",
       "       'Weather_Conditions_Unknown',\n",
       "       'Light_Conditions_Darkeness: No street lighting',\n",
       "       'Light_Conditions_Darkness: Street lighting unknown',\n",
       "       'Light_Conditions_Darkness: Street lights present and lit',\n",
       "       'Light_Conditions_Darkness: Street lights present but unlit',\n",
       "       'Light_Conditions_Daylight: Street light present',\n",
       "       'Road_Surface_Conditions_Dry',\n",
       "       'Road_Surface_Conditions_Flood (Over 3cm of water)',\n",
       "       'Road_Surface_Conditions_Frost/Ice', 'Road_Surface_Conditions_Snow',\n",
       "       'Road_Surface_Conditions_Wet/Damp'],\n",
       "      dtype='object')"
      ]
     },
     "execution_count": 41,
     "metadata": {},
     "output_type": "execute_result"
    }
   ],
   "source": [
    "a"
   ]
  },
  {
   "cell_type": "code",
   "execution_count": 42,
   "id": "6e70803c",
   "metadata": {
    "execution": {
     "iopub.execute_input": "2022-11-27T13:50:50.423253Z",
     "iopub.status.busy": "2022-11-27T13:50:50.422484Z",
     "iopub.status.idle": "2022-11-27T13:50:58.998819Z",
     "shell.execute_reply": "2022-11-27T13:50:58.997402Z"
    },
    "papermill": {
     "duration": 8.599262,
     "end_time": "2022-11-27T13:50:59.001442",
     "exception": false,
     "start_time": "2022-11-27T13:50:50.402180",
     "status": "completed"
    },
    "tags": []
   },
   "outputs": [],
   "source": [
    "data.to_csv('sonhali.csv')"
   ]
  },
  {
   "cell_type": "code",
   "execution_count": 43,
   "id": "95ec5ca2",
   "metadata": {
    "execution": {
     "iopub.execute_input": "2022-11-27T13:50:59.041685Z",
     "iopub.status.busy": "2022-11-27T13:50:59.041306Z",
     "iopub.status.idle": "2022-11-27T13:51:07.789875Z",
     "shell.execute_reply": "2022-11-27T13:51:07.788673Z"
    },
    "papermill": {
     "duration": 8.772196,
     "end_time": "2022-11-27T13:51:07.792668",
     "exception": false,
     "start_time": "2022-11-27T13:50:59.020472",
     "status": "completed"
    },
    "tags": []
   },
   "outputs": [],
   "source": [
    "from sklearn.model_selection import train_test_split\n",
    "col_isimler =a\n",
    "tahmin_isimler = ['Kategori']\n",
    "X = data[col_isimler].values \n",
    "\n",
    "y = data[tahmin_isimler].values\n",
    "\n",
    "X_train, X_test, y_train, y_test = train_test_split(\n",
    "    X, y, test_size=0.2, random_state=2018) "
   ]
  },
  {
   "cell_type": "markdown",
   "id": "beceb0dc",
   "metadata": {
    "papermill": {
     "duration": 0.018783,
     "end_time": "2022-11-27T13:51:07.830747",
     "exception": false,
     "start_time": "2022-11-27T13:51:07.811964",
     "status": "completed"
    },
    "tags": []
   },
   "source": [
    "#   Karar ağaçları ile yaralı sayısını tahmin etme"
   ]
  },
  {
   "cell_type": "code",
   "execution_count": 44,
   "id": "fd2585de",
   "metadata": {
    "execution": {
     "iopub.execute_input": "2022-11-27T13:51:07.871245Z",
     "iopub.status.busy": "2022-11-27T13:51:07.870803Z",
     "iopub.status.idle": "2022-11-27T13:51:08.101110Z",
     "shell.execute_reply": "2022-11-27T13:51:08.099977Z"
    },
    "papermill": {
     "duration": 0.253778,
     "end_time": "2022-11-27T13:51:08.103827",
     "exception": false,
     "start_time": "2022-11-27T13:51:07.850049",
     "status": "completed"
    },
    "tags": []
   },
   "outputs": [],
   "source": [
    "from sklearn import metrics\n",
    "from sklearn.model_selection import train_test_split\n",
    "from sklearn.preprocessing import StandardScaler\n",
    "from sklearn.neural_network import MLPClassifier\n",
    "from sklearn import metrics\n",
    "plt.style.use('bmh')\n",
    "import warnings\n",
    "warnings.filterwarnings('ignore')\n",
    "from sklearn.metrics import confusion_matrix, classification_report\n",
    "from sklearn.metrics import accuracy_score\n",
    "from sklearn.ensemble import RandomForestClassifier"
   ]
  },
  {
   "cell_type": "code",
   "execution_count": 45,
   "id": "87fe62f1",
   "metadata": {
    "execution": {
     "iopub.execute_input": "2022-11-27T13:51:08.144491Z",
     "iopub.status.busy": "2022-11-27T13:51:08.144029Z",
     "iopub.status.idle": "2022-11-27T13:51:25.249372Z",
     "shell.execute_reply": "2022-11-27T13:51:25.248265Z"
    },
    "papermill": {
     "duration": 17.12851,
     "end_time": "2022-11-27T13:51:25.251695",
     "exception": false,
     "start_time": "2022-11-27T13:51:08.123185",
     "status": "completed"
    },
    "tags": []
   },
   "outputs": [
    {
     "data": {
      "text/plain": [
       "DecisionTreeClassifier(random_state=42)"
      ]
     },
     "execution_count": 45,
     "metadata": {},
     "output_type": "execute_result"
    }
   ],
   "source": [
    "from sklearn.tree import DecisionTreeClassifier\n",
    "dt_model = DecisionTreeClassifier(random_state=42)\n",
    "dt_model.fit(X_train, y_train.ravel())"
   ]
  },
  {
   "cell_type": "code",
   "execution_count": 46,
   "id": "8f195588",
   "metadata": {
    "execution": {
     "iopub.execute_input": "2022-11-27T13:51:25.292941Z",
     "iopub.status.busy": "2022-11-27T13:51:25.292163Z",
     "iopub.status.idle": "2022-11-27T13:51:29.106150Z",
     "shell.execute_reply": "2022-11-27T13:51:29.104857Z"
    },
    "papermill": {
     "duration": 3.838126,
     "end_time": "2022-11-27T13:51:29.109346",
     "exception": false,
     "start_time": "2022-11-27T13:51:25.271220",
     "status": "completed"
    },
    "tags": []
   },
   "outputs": [
    {
     "name": "stdout",
     "output_type": "stream",
     "text": [
      "Karar ağaçları ile eğitim başarısı : 0.7788\n"
     ]
    }
   ],
   "source": [
    "prediction_from_trained_data = dt_model.predict(X_train)\n",
    "accuracy = metrics.accuracy_score(y_train, prediction_from_trained_data)\n",
    "print (\"Karar ağaçları ile eğitim başarısı : {0:.4f}\".format(accuracy))"
   ]
  },
  {
   "cell_type": "code",
   "execution_count": 47,
   "id": "87653f7a",
   "metadata": {
    "execution": {
     "iopub.execute_input": "2022-11-27T13:51:29.149853Z",
     "iopub.status.busy": "2022-11-27T13:51:29.149472Z",
     "iopub.status.idle": "2022-11-27T13:51:40.207960Z",
     "shell.execute_reply": "2022-11-27T13:51:40.206294Z"
    },
    "papermill": {
     "duration": 11.083091,
     "end_time": "2022-11-27T13:51:40.211730",
     "exception": false,
     "start_time": "2022-11-27T13:51:29.128639",
     "status": "completed"
    },
    "tags": []
   },
   "outputs": [
    {
     "name": "stdout",
     "output_type": "stream",
     "text": [
      "                precision    recall  f1-score   support\n",
      "\n",
      " 1 ile 3 arasi       0.22      0.03      0.06     48157\n",
      "      1 yarali       0.77      0.97      0.86    230544\n",
      "    12'den cok       0.10      0.01      0.01     14475\n",
      " 3 ile 6 arasi       0.07      0.01      0.01      6838\n",
      " 6 ile 9 arasi       0.07      0.01      0.01       330\n",
      "9 ile 12 arasi       0.50      0.02      0.04        48\n",
      "\n",
      "      accuracy                           0.75    300392\n",
      "     macro avg       0.29      0.17      0.17    300392\n",
      "  weighted avg       0.63      0.75      0.67    300392\n",
      "\n",
      "Karar Ağaçlarının test verisi üzerinde'ki performansı 0.753398892114304\n"
     ]
    }
   ],
   "source": [
    "dt_predict_test = dt_model.predict(X_test)\n",
    "\n",
    "print(classification_report(y_test, dt_predict_test))\n",
    "print(\"Karar Ağaçlarının test verisi üzerinde'ki performansı %s\" %\n",
    "      accuracy_score(y_test, dt_predict_test))"
   ]
  },
  {
   "cell_type": "code",
   "execution_count": 48,
   "id": "3d4c65c1",
   "metadata": {
    "execution": {
     "iopub.execute_input": "2022-11-27T13:51:40.254108Z",
     "iopub.status.busy": "2022-11-27T13:51:40.253720Z",
     "iopub.status.idle": "2022-11-27T13:51:51.105115Z",
     "shell.execute_reply": "2022-11-27T13:51:51.103174Z"
    },
    "papermill": {
     "duration": 10.875875,
     "end_time": "2022-11-27T13:51:51.108355",
     "exception": false,
     "start_time": "2022-11-27T13:51:40.232480",
     "status": "completed"
    },
    "tags": []
   },
   "outputs": [
    {
     "name": "stdout",
     "output_type": "stream",
     "text": [
      "Karar Ağaçları için Karışıklık matrisi \n",
      "[[     2      0    303      4     19      2]\n",
      " [     0      1     41      1      3      2]\n",
      " [    19      1 224565    688   4935    336]\n",
      " [     0      0  13788    112    526     49]\n",
      " [     6      0  46224    231   1596    100]\n",
      " [     3      0   6461     51    284     39]]\n",
      "\n",
      "Sınıflandırma Raporu\n",
      "\n",
      "                precision    recall  f1-score   support\n",
      "\n",
      " 6 ile 9 arasi       0.07      0.01      0.01       330\n",
      "9 ile 12 arasi       0.50      0.02      0.04        48\n",
      "      1 yarali       0.77      0.97      0.86    230544\n",
      "    12'den cok       0.10      0.01      0.01     14475\n",
      " 1 ile 3 arasi       0.22      0.03      0.06     48157\n",
      " 3 ile 6 arasi       0.07      0.01      0.01      6838\n",
      "\n",
      "      accuracy                           0.75    300392\n",
      "     macro avg       0.29      0.17      0.17    300392\n",
      "  weighted avg       0.63      0.75      0.67    300392\n",
      "\n"
     ]
    }
   ],
   "source": [
    "print (\"Karar Ağaçları için Karışıklık matrisi \")\n",
    "\n",
    "\n",
    "print (\"{0}\".format(metrics.confusion_matrix(y_test, dt_predict_test,\n",
    "                                             \n",
    "                                             labels=['6 ile 9 arasi',\n",
    " '9 ile 12 arasi',\n",
    " \"1 yarali\",\n",
    " \"12'den cok\",\n",
    " '1 ile 3 arasi',\n",
    " '3 ile 6 arasi'])))\n",
    "\n",
    "print (\"\")\n",
    "\n",
    "print (\"Sınıflandırma Raporu\\n\")\n",
    "\n",
    "\n",
    "print (\"{0}\".format(metrics.classification_report(y_test, dt_predict_test, labels=['6 ile 9 arasi',\n",
    " '9 ile 12 arasi',\n",
    " \"1 yarali\",\n",
    " \"12'den cok\",\n",
    " '1 ile 3 arasi',\n",
    " '3 ile 6 arasi'])))"
   ]
  }
 ],
 "metadata": {
  "kernelspec": {
   "display_name": "Python 3",
   "language": "python",
   "name": "python3"
  },
  "language_info": {
   "codemirror_mode": {
    "name": "ipython",
    "version": 3
   },
   "file_extension": ".py",
   "mimetype": "text/x-python",
   "name": "python",
   "nbconvert_exporter": "python",
   "pygments_lexer": "ipython3",
   "version": "3.7.12"
  },
  "papermill": {
   "default_parameters": {},
   "duration": 108.691125,
   "end_time": "2022-11-27T13:51:52.957950",
   "environment_variables": {},
   "exception": null,
   "input_path": "__notebook__.ipynb",
   "output_path": "__notebook__.ipynb",
   "parameters": {},
   "start_time": "2022-11-27T13:50:04.266825",
   "version": "2.3.4"
  }
 },
 "nbformat": 4,
 "nbformat_minor": 5
}
